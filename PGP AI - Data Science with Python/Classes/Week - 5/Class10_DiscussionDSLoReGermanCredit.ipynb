{
 "cells": [
  {
   "cell_type": "code",
   "execution_count": 2,
   "metadata": {},
   "outputs": [],
   "source": [
    "import pandas as pd\n",
    "import numpy as np\n",
    "import warnings\n",
    "warnings.filterwarnings(action = \"ignore\")\n",
    "gc = pd.read_csv(r\"C:\\Users\\Vaibhav\\Desktop\\BA\\Datasets\\German_credit_classification.csv\")"
   ]
  },
  {
   "cell_type": "code",
   "execution_count": 3,
   "metadata": {},
   "outputs": [
    {
     "data": {
      "text/html": [
       "<div>\n",
       "<style scoped>\n",
       "    .dataframe tbody tr th:only-of-type {\n",
       "        vertical-align: middle;\n",
       "    }\n",
       "\n",
       "    .dataframe tbody tr th {\n",
       "        vertical-align: top;\n",
       "    }\n",
       "\n",
       "    .dataframe thead th {\n",
       "        text-align: right;\n",
       "    }\n",
       "</style>\n",
       "<table border=\"1\" class=\"dataframe\">\n",
       "  <thead>\n",
       "    <tr style=\"text-align: right;\">\n",
       "      <th></th>\n",
       "      <th>Default</th>\n",
       "      <th>checkingstatus1</th>\n",
       "      <th>duration</th>\n",
       "      <th>history</th>\n",
       "      <th>purpose</th>\n",
       "      <th>amount</th>\n",
       "      <th>savings</th>\n",
       "      <th>employ</th>\n",
       "      <th>installment</th>\n",
       "      <th>status</th>\n",
       "      <th>...</th>\n",
       "      <th>residence</th>\n",
       "      <th>property</th>\n",
       "      <th>age</th>\n",
       "      <th>otherplans</th>\n",
       "      <th>housing</th>\n",
       "      <th>cards</th>\n",
       "      <th>job</th>\n",
       "      <th>liable</th>\n",
       "      <th>tele</th>\n",
       "      <th>foreign</th>\n",
       "    </tr>\n",
       "  </thead>\n",
       "  <tbody>\n",
       "    <tr>\n",
       "      <th>0</th>\n",
       "      <td>0</td>\n",
       "      <td>A11</td>\n",
       "      <td>6</td>\n",
       "      <td>A34</td>\n",
       "      <td>A43</td>\n",
       "      <td>1169</td>\n",
       "      <td>A65</td>\n",
       "      <td>A75</td>\n",
       "      <td>4</td>\n",
       "      <td>A93</td>\n",
       "      <td>...</td>\n",
       "      <td>4</td>\n",
       "      <td>A121</td>\n",
       "      <td>67</td>\n",
       "      <td>A143</td>\n",
       "      <td>A152</td>\n",
       "      <td>2</td>\n",
       "      <td>A173</td>\n",
       "      <td>1</td>\n",
       "      <td>A192</td>\n",
       "      <td>A201</td>\n",
       "    </tr>\n",
       "    <tr>\n",
       "      <th>1</th>\n",
       "      <td>1</td>\n",
       "      <td>A12</td>\n",
       "      <td>48</td>\n",
       "      <td>A32</td>\n",
       "      <td>A43</td>\n",
       "      <td>5951</td>\n",
       "      <td>A61</td>\n",
       "      <td>A73</td>\n",
       "      <td>2</td>\n",
       "      <td>A92</td>\n",
       "      <td>...</td>\n",
       "      <td>2</td>\n",
       "      <td>A121</td>\n",
       "      <td>22</td>\n",
       "      <td>A143</td>\n",
       "      <td>A152</td>\n",
       "      <td>1</td>\n",
       "      <td>A173</td>\n",
       "      <td>1</td>\n",
       "      <td>A191</td>\n",
       "      <td>A201</td>\n",
       "    </tr>\n",
       "    <tr>\n",
       "      <th>2</th>\n",
       "      <td>0</td>\n",
       "      <td>A14</td>\n",
       "      <td>12</td>\n",
       "      <td>A34</td>\n",
       "      <td>A46</td>\n",
       "      <td>2096</td>\n",
       "      <td>A61</td>\n",
       "      <td>A74</td>\n",
       "      <td>2</td>\n",
       "      <td>A93</td>\n",
       "      <td>...</td>\n",
       "      <td>3</td>\n",
       "      <td>A121</td>\n",
       "      <td>49</td>\n",
       "      <td>A143</td>\n",
       "      <td>A152</td>\n",
       "      <td>1</td>\n",
       "      <td>A172</td>\n",
       "      <td>2</td>\n",
       "      <td>A191</td>\n",
       "      <td>A201</td>\n",
       "    </tr>\n",
       "    <tr>\n",
       "      <th>3</th>\n",
       "      <td>0</td>\n",
       "      <td>A11</td>\n",
       "      <td>42</td>\n",
       "      <td>A32</td>\n",
       "      <td>A42</td>\n",
       "      <td>7882</td>\n",
       "      <td>A61</td>\n",
       "      <td>A74</td>\n",
       "      <td>2</td>\n",
       "      <td>A93</td>\n",
       "      <td>...</td>\n",
       "      <td>4</td>\n",
       "      <td>A122</td>\n",
       "      <td>45</td>\n",
       "      <td>A143</td>\n",
       "      <td>A153</td>\n",
       "      <td>1</td>\n",
       "      <td>A173</td>\n",
       "      <td>2</td>\n",
       "      <td>A191</td>\n",
       "      <td>A201</td>\n",
       "    </tr>\n",
       "    <tr>\n",
       "      <th>4</th>\n",
       "      <td>1</td>\n",
       "      <td>A11</td>\n",
       "      <td>24</td>\n",
       "      <td>A33</td>\n",
       "      <td>A40</td>\n",
       "      <td>4870</td>\n",
       "      <td>A61</td>\n",
       "      <td>A73</td>\n",
       "      <td>3</td>\n",
       "      <td>A93</td>\n",
       "      <td>...</td>\n",
       "      <td>4</td>\n",
       "      <td>A124</td>\n",
       "      <td>53</td>\n",
       "      <td>A143</td>\n",
       "      <td>A153</td>\n",
       "      <td>2</td>\n",
       "      <td>A173</td>\n",
       "      <td>2</td>\n",
       "      <td>A191</td>\n",
       "      <td>A201</td>\n",
       "    </tr>\n",
       "    <tr>\n",
       "      <th>5</th>\n",
       "      <td>0</td>\n",
       "      <td>A14</td>\n",
       "      <td>36</td>\n",
       "      <td>A32</td>\n",
       "      <td>A46</td>\n",
       "      <td>9055</td>\n",
       "      <td>A65</td>\n",
       "      <td>A73</td>\n",
       "      <td>2</td>\n",
       "      <td>A93</td>\n",
       "      <td>...</td>\n",
       "      <td>4</td>\n",
       "      <td>A124</td>\n",
       "      <td>35</td>\n",
       "      <td>A143</td>\n",
       "      <td>A153</td>\n",
       "      <td>1</td>\n",
       "      <td>A172</td>\n",
       "      <td>2</td>\n",
       "      <td>A192</td>\n",
       "      <td>A201</td>\n",
       "    </tr>\n",
       "    <tr>\n",
       "      <th>6</th>\n",
       "      <td>0</td>\n",
       "      <td>A14</td>\n",
       "      <td>24</td>\n",
       "      <td>A32</td>\n",
       "      <td>A42</td>\n",
       "      <td>2835</td>\n",
       "      <td>A63</td>\n",
       "      <td>A75</td>\n",
       "      <td>3</td>\n",
       "      <td>A93</td>\n",
       "      <td>...</td>\n",
       "      <td>4</td>\n",
       "      <td>A122</td>\n",
       "      <td>53</td>\n",
       "      <td>A143</td>\n",
       "      <td>A152</td>\n",
       "      <td>1</td>\n",
       "      <td>A173</td>\n",
       "      <td>1</td>\n",
       "      <td>A191</td>\n",
       "      <td>A201</td>\n",
       "    </tr>\n",
       "    <tr>\n",
       "      <th>7</th>\n",
       "      <td>0</td>\n",
       "      <td>A12</td>\n",
       "      <td>36</td>\n",
       "      <td>A32</td>\n",
       "      <td>A41</td>\n",
       "      <td>6948</td>\n",
       "      <td>A61</td>\n",
       "      <td>A73</td>\n",
       "      <td>2</td>\n",
       "      <td>A93</td>\n",
       "      <td>...</td>\n",
       "      <td>2</td>\n",
       "      <td>A123</td>\n",
       "      <td>35</td>\n",
       "      <td>A143</td>\n",
       "      <td>A151</td>\n",
       "      <td>1</td>\n",
       "      <td>A174</td>\n",
       "      <td>1</td>\n",
       "      <td>A192</td>\n",
       "      <td>A201</td>\n",
       "    </tr>\n",
       "    <tr>\n",
       "      <th>8</th>\n",
       "      <td>0</td>\n",
       "      <td>A14</td>\n",
       "      <td>12</td>\n",
       "      <td>A32</td>\n",
       "      <td>A43</td>\n",
       "      <td>3059</td>\n",
       "      <td>A64</td>\n",
       "      <td>A74</td>\n",
       "      <td>2</td>\n",
       "      <td>A91</td>\n",
       "      <td>...</td>\n",
       "      <td>4</td>\n",
       "      <td>A121</td>\n",
       "      <td>61</td>\n",
       "      <td>A143</td>\n",
       "      <td>A152</td>\n",
       "      <td>1</td>\n",
       "      <td>A172</td>\n",
       "      <td>1</td>\n",
       "      <td>A191</td>\n",
       "      <td>A201</td>\n",
       "    </tr>\n",
       "    <tr>\n",
       "      <th>9</th>\n",
       "      <td>1</td>\n",
       "      <td>A12</td>\n",
       "      <td>30</td>\n",
       "      <td>A34</td>\n",
       "      <td>A40</td>\n",
       "      <td>5234</td>\n",
       "      <td>A61</td>\n",
       "      <td>A71</td>\n",
       "      <td>4</td>\n",
       "      <td>A94</td>\n",
       "      <td>...</td>\n",
       "      <td>2</td>\n",
       "      <td>A123</td>\n",
       "      <td>28</td>\n",
       "      <td>A143</td>\n",
       "      <td>A152</td>\n",
       "      <td>2</td>\n",
       "      <td>A174</td>\n",
       "      <td>1</td>\n",
       "      <td>A191</td>\n",
       "      <td>A201</td>\n",
       "    </tr>\n",
       "  </tbody>\n",
       "</table>\n",
       "<p>10 rows × 21 columns</p>\n",
       "</div>"
      ],
      "text/plain": [
       "   Default checkingstatus1  duration history purpose  amount savings employ  \\\n",
       "0        0             A11         6     A34     A43    1169     A65    A75   \n",
       "1        1             A12        48     A32     A43    5951     A61    A73   \n",
       "2        0             A14        12     A34     A46    2096     A61    A74   \n",
       "3        0             A11        42     A32     A42    7882     A61    A74   \n",
       "4        1             A11        24     A33     A40    4870     A61    A73   \n",
       "5        0             A14        36     A32     A46    9055     A65    A73   \n",
       "6        0             A14        24     A32     A42    2835     A63    A75   \n",
       "7        0             A12        36     A32     A41    6948     A61    A73   \n",
       "8        0             A14        12     A32     A43    3059     A64    A74   \n",
       "9        1             A12        30     A34     A40    5234     A61    A71   \n",
       "\n",
       "   installment status  ... residence  property age  otherplans housing cards  \\\n",
       "0            4    A93  ...         4      A121  67        A143    A152     2   \n",
       "1            2    A92  ...         2      A121  22        A143    A152     1   \n",
       "2            2    A93  ...         3      A121  49        A143    A152     1   \n",
       "3            2    A93  ...         4      A122  45        A143    A153     1   \n",
       "4            3    A93  ...         4      A124  53        A143    A153     2   \n",
       "5            2    A93  ...         4      A124  35        A143    A153     1   \n",
       "6            3    A93  ...         4      A122  53        A143    A152     1   \n",
       "7            2    A93  ...         2      A123  35        A143    A151     1   \n",
       "8            2    A91  ...         4      A121  61        A143    A152     1   \n",
       "9            4    A94  ...         2      A123  28        A143    A152     2   \n",
       "\n",
       "    job liable  tele foreign  \n",
       "0  A173      1  A192    A201  \n",
       "1  A173      1  A191    A201  \n",
       "2  A172      2  A191    A201  \n",
       "3  A173      2  A191    A201  \n",
       "4  A173      2  A191    A201  \n",
       "5  A172      2  A192    A201  \n",
       "6  A173      1  A191    A201  \n",
       "7  A174      1  A192    A201  \n",
       "8  A172      1  A191    A201  \n",
       "9  A174      1  A191    A201  \n",
       "\n",
       "[10 rows x 21 columns]"
      ]
     },
     "execution_count": 3,
     "metadata": {},
     "output_type": "execute_result"
    }
   ],
   "source": [
    "gc.head(10)"
   ]
  },
  {
   "cell_type": "code",
   "execution_count": 4,
   "metadata": {},
   "outputs": [
    {
     "data": {
      "text/plain": [
       "(2723643863112, 2723643622960)"
      ]
     },
     "execution_count": 4,
     "metadata": {},
     "output_type": "execute_result"
    }
   ],
   "source": [
    "gc1 = pd.DataFrame(gc)\n",
    "id(gc1), id(gc)"
   ]
  },
  {
   "cell_type": "code",
   "execution_count": 5,
   "metadata": {},
   "outputs": [
    {
     "data": {
      "text/plain": [
       "Default            0\n",
       "checkingstatus1    0\n",
       "duration           0\n",
       "history            0\n",
       "purpose            0\n",
       "amount             0\n",
       "savings            0\n",
       "employ             0\n",
       "installment        0\n",
       "status             0\n",
       "others             0\n",
       "residence          0\n",
       "property           0\n",
       "age                0\n",
       "otherplans         0\n",
       "housing            0\n",
       "cards              0\n",
       "job                0\n",
       "liable             0\n",
       "tele               0\n",
       "foreign            0\n",
       "dtype: int64"
      ]
     },
     "execution_count": 5,
     "metadata": {},
     "output_type": "execute_result"
    }
   ],
   "source": [
    "gc.isnull().sum()"
   ]
  },
  {
   "cell_type": "code",
   "execution_count": 6,
   "metadata": {
    "scrolled": true
   },
   "outputs": [
    {
     "data": {
      "text/html": [
       "<div>\n",
       "<style scoped>\n",
       "    .dataframe tbody tr th:only-of-type {\n",
       "        vertical-align: middle;\n",
       "    }\n",
       "\n",
       "    .dataframe tbody tr th {\n",
       "        vertical-align: top;\n",
       "    }\n",
       "\n",
       "    .dataframe thead th {\n",
       "        text-align: right;\n",
       "    }\n",
       "</style>\n",
       "<table border=\"1\" class=\"dataframe\">\n",
       "  <thead>\n",
       "    <tr style=\"text-align: right;\">\n",
       "      <th></th>\n",
       "      <th>Default</th>\n",
       "      <th>checkingstatus1</th>\n",
       "      <th>duration</th>\n",
       "      <th>history</th>\n",
       "      <th>purpose</th>\n",
       "      <th>amount</th>\n",
       "      <th>savings</th>\n",
       "      <th>employ</th>\n",
       "      <th>installment</th>\n",
       "      <th>status</th>\n",
       "      <th>...</th>\n",
       "      <th>residence</th>\n",
       "      <th>property</th>\n",
       "      <th>age</th>\n",
       "      <th>otherplans</th>\n",
       "      <th>housing</th>\n",
       "      <th>cards</th>\n",
       "      <th>job</th>\n",
       "      <th>liable</th>\n",
       "      <th>tele</th>\n",
       "      <th>foreign</th>\n",
       "    </tr>\n",
       "  </thead>\n",
       "  <tbody>\n",
       "    <tr>\n",
       "      <th>0</th>\n",
       "      <td>0</td>\n",
       "      <td>A11</td>\n",
       "      <td>6</td>\n",
       "      <td>A34</td>\n",
       "      <td>A43</td>\n",
       "      <td>1169</td>\n",
       "      <td>A65</td>\n",
       "      <td>A75</td>\n",
       "      <td>4</td>\n",
       "      <td>A93</td>\n",
       "      <td>...</td>\n",
       "      <td>4</td>\n",
       "      <td>A121</td>\n",
       "      <td>67</td>\n",
       "      <td>A143</td>\n",
       "      <td>A152</td>\n",
       "      <td>2</td>\n",
       "      <td>A173</td>\n",
       "      <td>1</td>\n",
       "      <td>A192</td>\n",
       "      <td>A201</td>\n",
       "    </tr>\n",
       "    <tr>\n",
       "      <th>1</th>\n",
       "      <td>1</td>\n",
       "      <td>A12</td>\n",
       "      <td>48</td>\n",
       "      <td>A32</td>\n",
       "      <td>A43</td>\n",
       "      <td>5951</td>\n",
       "      <td>A61</td>\n",
       "      <td>A73</td>\n",
       "      <td>2</td>\n",
       "      <td>A92</td>\n",
       "      <td>...</td>\n",
       "      <td>2</td>\n",
       "      <td>A121</td>\n",
       "      <td>22</td>\n",
       "      <td>A143</td>\n",
       "      <td>A152</td>\n",
       "      <td>1</td>\n",
       "      <td>A173</td>\n",
       "      <td>1</td>\n",
       "      <td>A191</td>\n",
       "      <td>A201</td>\n",
       "    </tr>\n",
       "    <tr>\n",
       "      <th>2</th>\n",
       "      <td>0</td>\n",
       "      <td>A14</td>\n",
       "      <td>12</td>\n",
       "      <td>A34</td>\n",
       "      <td>A46</td>\n",
       "      <td>2096</td>\n",
       "      <td>A61</td>\n",
       "      <td>A74</td>\n",
       "      <td>2</td>\n",
       "      <td>A93</td>\n",
       "      <td>...</td>\n",
       "      <td>3</td>\n",
       "      <td>A121</td>\n",
       "      <td>49</td>\n",
       "      <td>A143</td>\n",
       "      <td>A152</td>\n",
       "      <td>1</td>\n",
       "      <td>A172</td>\n",
       "      <td>2</td>\n",
       "      <td>A191</td>\n",
       "      <td>A201</td>\n",
       "    </tr>\n",
       "  </tbody>\n",
       "</table>\n",
       "<p>3 rows × 21 columns</p>\n",
       "</div>"
      ],
      "text/plain": [
       "   Default checkingstatus1  duration history purpose  amount savings employ  \\\n",
       "0        0             A11         6     A34     A43    1169     A65    A75   \n",
       "1        1             A12        48     A32     A43    5951     A61    A73   \n",
       "2        0             A14        12     A34     A46    2096     A61    A74   \n",
       "\n",
       "   installment status  ... residence  property age  otherplans housing cards  \\\n",
       "0            4    A93  ...         4      A121  67        A143    A152     2   \n",
       "1            2    A92  ...         2      A121  22        A143    A152     1   \n",
       "2            2    A93  ...         3      A121  49        A143    A152     1   \n",
       "\n",
       "    job liable  tele foreign  \n",
       "0  A173      1  A192    A201  \n",
       "1  A173      1  A191    A201  \n",
       "2  A172      2  A191    A201  \n",
       "\n",
       "[3 rows x 21 columns]"
      ]
     },
     "execution_count": 6,
     "metadata": {},
     "output_type": "execute_result"
    }
   ],
   "source": [
    "gc.head(3)"
   ]
  },
  {
   "cell_type": "code",
   "execution_count": 7,
   "metadata": {},
   "outputs": [
    {
     "data": {
      "text/html": [
       "<div>\n",
       "<style scoped>\n",
       "    .dataframe tbody tr th:only-of-type {\n",
       "        vertical-align: middle;\n",
       "    }\n",
       "\n",
       "    .dataframe tbody tr th {\n",
       "        vertical-align: top;\n",
       "    }\n",
       "\n",
       "    .dataframe thead th {\n",
       "        text-align: right;\n",
       "    }\n",
       "</style>\n",
       "<table border=\"1\" class=\"dataframe\">\n",
       "  <thead>\n",
       "    <tr style=\"text-align: right;\">\n",
       "      <th></th>\n",
       "      <th>installment</th>\n",
       "      <th>status</th>\n",
       "      <th>others</th>\n",
       "      <th>residence</th>\n",
       "      <th>property</th>\n",
       "      <th>age</th>\n",
       "      <th>otherplans</th>\n",
       "      <th>housing</th>\n",
       "      <th>cards</th>\n",
       "      <th>job</th>\n",
       "      <th>liable</th>\n",
       "      <th>tele</th>\n",
       "      <th>foreign</th>\n",
       "    </tr>\n",
       "  </thead>\n",
       "  <tbody>\n",
       "    <tr>\n",
       "      <th>0</th>\n",
       "      <td>4</td>\n",
       "      <td>A93</td>\n",
       "      <td>A101</td>\n",
       "      <td>4</td>\n",
       "      <td>A121</td>\n",
       "      <td>67</td>\n",
       "      <td>A143</td>\n",
       "      <td>A152</td>\n",
       "      <td>2</td>\n",
       "      <td>A173</td>\n",
       "      <td>1</td>\n",
       "      <td>A192</td>\n",
       "      <td>A201</td>\n",
       "    </tr>\n",
       "    <tr>\n",
       "      <th>1</th>\n",
       "      <td>2</td>\n",
       "      <td>A92</td>\n",
       "      <td>A101</td>\n",
       "      <td>2</td>\n",
       "      <td>A121</td>\n",
       "      <td>22</td>\n",
       "      <td>A143</td>\n",
       "      <td>A152</td>\n",
       "      <td>1</td>\n",
       "      <td>A173</td>\n",
       "      <td>1</td>\n",
       "      <td>A191</td>\n",
       "      <td>A201</td>\n",
       "    </tr>\n",
       "  </tbody>\n",
       "</table>\n",
       "</div>"
      ],
      "text/plain": [
       "   installment status others  residence property  age otherplans housing  \\\n",
       "0            4    A93   A101          4     A121   67       A143    A152   \n",
       "1            2    A92   A101          2     A121   22       A143    A152   \n",
       "\n",
       "   cards   job  liable  tele foreign  \n",
       "0      2  A173       1  A192    A201  \n",
       "1      1  A173       1  A191    A201  "
      ]
     },
     "execution_count": 7,
     "metadata": {},
     "output_type": "execute_result"
    }
   ],
   "source": [
    "gc.iloc[:, 8:].head(2)"
   ]
  },
  {
   "cell_type": "code",
   "execution_count": 8,
   "metadata": {},
   "outputs": [],
   "source": [
    "cat_vars = [\"checkingstatus1\", \"history\", \"purpose\", \"savings\", \"employ\", \"status\", \"others\", \"property\", \"otherplans\", \"housing\",\"job\",\"tele\", \"foreign\"]"
   ]
  },
  {
   "cell_type": "code",
   "execution_count": 9,
   "metadata": {},
   "outputs": [
    {
     "data": {
      "text/plain": [
       "A93    548\n",
       "A92    310\n",
       "A94     92\n",
       "A91     50\n",
       "Name: status, dtype: int64"
      ]
     },
     "execution_count": 9,
     "metadata": {},
     "output_type": "execute_result"
    }
   ],
   "source": [
    "gc[\"status\"].value_counts()"
   ]
  },
  {
   "cell_type": "code",
   "execution_count": 10,
   "metadata": {},
   "outputs": [
    {
     "name": "stdout",
     "output_type": "stream",
     "text": [
      "A14    394\n",
      "A11    274\n",
      "A12    269\n",
      "A13     63\n",
      "Name: checkingstatus1, dtype: int64 \n",
      "\n",
      "A32    530\n",
      "A34    293\n",
      "A33     88\n",
      "A31     49\n",
      "A30     40\n",
      "Name: history, dtype: int64 \n",
      "\n",
      "A43     280\n",
      "A40     234\n",
      "A42     181\n",
      "A41     103\n",
      "A49      97\n",
      "A46      50\n",
      "A45      22\n",
      "A410     12\n",
      "A44      12\n",
      "A48       9\n",
      "Name: purpose, dtype: int64 \n",
      "\n",
      "A61    603\n",
      "A65    183\n",
      "A62    103\n",
      "A63     63\n",
      "A64     48\n",
      "Name: savings, dtype: int64 \n",
      "\n",
      "A73    339\n",
      "A75    253\n",
      "A74    174\n",
      "A72    172\n",
      "A71     62\n",
      "Name: employ, dtype: int64 \n",
      "\n",
      "A93    548\n",
      "A92    310\n",
      "A94     92\n",
      "A91     50\n",
      "Name: status, dtype: int64 \n",
      "\n",
      "A101    907\n",
      "A103     52\n",
      "A102     41\n",
      "Name: others, dtype: int64 \n",
      "\n",
      "A123    332\n",
      "A121    282\n",
      "A122    232\n",
      "A124    154\n",
      "Name: property, dtype: int64 \n",
      "\n",
      "A143    814\n",
      "A141    139\n",
      "A142     47\n",
      "Name: otherplans, dtype: int64 \n",
      "\n",
      "A152    713\n",
      "A151    179\n",
      "A153    108\n",
      "Name: housing, dtype: int64 \n",
      "\n",
      "A173    630\n",
      "A172    200\n",
      "A174    148\n",
      "A171     22\n",
      "Name: job, dtype: int64 \n",
      "\n",
      "A191    596\n",
      "A192    404\n",
      "Name: tele, dtype: int64 \n",
      "\n",
      "A201    963\n",
      "A202     37\n",
      "Name: foreign, dtype: int64 \n",
      "\n"
     ]
    }
   ],
   "source": [
    "for cat in cat_vars:\n",
    "    print(gc[cat].value_counts(),\"\\n\")"
   ]
  },
  {
   "cell_type": "code",
   "execution_count": 11,
   "metadata": {},
   "outputs": [],
   "source": [
    "gc = pd.get_dummies(gc, drop_first=True)"
   ]
  },
  {
   "cell_type": "code",
   "execution_count": 12,
   "metadata": {},
   "outputs": [
    {
     "data": {
      "text/plain": [
       "(1000, 49)"
      ]
     },
     "execution_count": 12,
     "metadata": {},
     "output_type": "execute_result"
    }
   ],
   "source": [
    "gc.shape"
   ]
  },
  {
   "cell_type": "code",
   "execution_count": 13,
   "metadata": {},
   "outputs": [
    {
     "data": {
      "text/plain": [
       "Index(['Default', 'duration', 'amount', 'installment', 'residence', 'age',\n",
       "       'cards', 'liable', 'checkingstatus1_A12', 'checkingstatus1_A13',\n",
       "       'checkingstatus1_A14', 'history_A31', 'history_A32', 'history_A33',\n",
       "       'history_A34', 'purpose_A41', 'purpose_A410', 'purpose_A42',\n",
       "       'purpose_A43', 'purpose_A44', 'purpose_A45', 'purpose_A46',\n",
       "       'purpose_A48', 'purpose_A49', 'savings_A62', 'savings_A63',\n",
       "       'savings_A64', 'savings_A65', 'employ_A72', 'employ_A73', 'employ_A74',\n",
       "       'employ_A75', 'status_A92', 'status_A93', 'status_A94', 'others_A102',\n",
       "       'others_A103', 'property_A122', 'property_A123', 'property_A124',\n",
       "       'otherplans_A142', 'otherplans_A143', 'housing_A152', 'housing_A153',\n",
       "       'job_A172', 'job_A173', 'job_A174', 'tele_A192', 'foreign_A202'],\n",
       "      dtype='object')"
      ]
     },
     "execution_count": 13,
     "metadata": {},
     "output_type": "execute_result"
    }
   ],
   "source": [
    "gc.columns"
   ]
  },
  {
   "cell_type": "markdown",
   "metadata": {},
   "source": [
    "----"
   ]
  },
  {
   "cell_type": "code",
   "execution_count": 120,
   "metadata": {},
   "outputs": [],
   "source": [
    "#split into train and test"
   ]
  },
  {
   "cell_type": "code",
   "execution_count": 18,
   "metadata": {},
   "outputs": [],
   "source": [
    "from sklearn.model_selection import train_test_split"
   ]
  },
  {
   "cell_type": "code",
   "execution_count": 19,
   "metadata": {},
   "outputs": [],
   "source": [
    "train,test = train_test_split(gc, test_size = .3, random_state = 2)"
   ]
  },
  {
   "cell_type": "code",
   "execution_count": 20,
   "metadata": {},
   "outputs": [],
   "source": [
    "y = gc.iloc[:,0]\n",
    "X = gc.iloc[:, 1:]"
   ]
  },
  {
   "cell_type": "code",
   "execution_count": 21,
   "metadata": {},
   "outputs": [],
   "source": [
    "X_train, X_test, y_train, y_test = train_test_split(X, y,test_size = 0.3, random_state=2)#random state is the random seed"
   ]
  },
  {
   "cell_type": "code",
   "execution_count": 22,
   "metadata": {},
   "outputs": [
    {
     "data": {
      "text/plain": [
       "(700, 48)"
      ]
     },
     "execution_count": 22,
     "metadata": {},
     "output_type": "execute_result"
    }
   ],
   "source": [
    "X_train.shape"
   ]
  },
  {
   "cell_type": "code",
   "execution_count": 23,
   "metadata": {},
   "outputs": [
    {
     "data": {
      "text/html": [
       "<div>\n",
       "<style scoped>\n",
       "    .dataframe tbody tr th:only-of-type {\n",
       "        vertical-align: middle;\n",
       "    }\n",
       "\n",
       "    .dataframe tbody tr th {\n",
       "        vertical-align: top;\n",
       "    }\n",
       "\n",
       "    .dataframe thead th {\n",
       "        text-align: right;\n",
       "    }\n",
       "</style>\n",
       "<table border=\"1\" class=\"dataframe\">\n",
       "  <thead>\n",
       "    <tr style=\"text-align: right;\">\n",
       "      <th></th>\n",
       "      <th>duration</th>\n",
       "      <th>amount</th>\n",
       "      <th>installment</th>\n",
       "      <th>residence</th>\n",
       "      <th>age</th>\n",
       "      <th>cards</th>\n",
       "      <th>liable</th>\n",
       "      <th>checkingstatus1_A12</th>\n",
       "      <th>checkingstatus1_A13</th>\n",
       "      <th>checkingstatus1_A14</th>\n",
       "      <th>...</th>\n",
       "      <th>property_A124</th>\n",
       "      <th>otherplans_A142</th>\n",
       "      <th>otherplans_A143</th>\n",
       "      <th>housing_A152</th>\n",
       "      <th>housing_A153</th>\n",
       "      <th>job_A172</th>\n",
       "      <th>job_A173</th>\n",
       "      <th>job_A174</th>\n",
       "      <th>tele_A192</th>\n",
       "      <th>foreign_A202</th>\n",
       "    </tr>\n",
       "  </thead>\n",
       "  <tbody>\n",
       "    <tr>\n",
       "      <th>90</th>\n",
       "      <td>12</td>\n",
       "      <td>618</td>\n",
       "      <td>4</td>\n",
       "      <td>4</td>\n",
       "      <td>56</td>\n",
       "      <td>1</td>\n",
       "      <td>1</td>\n",
       "      <td>0</td>\n",
       "      <td>0</td>\n",
       "      <td>1</td>\n",
       "      <td>...</td>\n",
       "      <td>0</td>\n",
       "      <td>0</td>\n",
       "      <td>1</td>\n",
       "      <td>1</td>\n",
       "      <td>0</td>\n",
       "      <td>0</td>\n",
       "      <td>1</td>\n",
       "      <td>0</td>\n",
       "      <td>0</td>\n",
       "      <td>0</td>\n",
       "    </tr>\n",
       "    <tr>\n",
       "      <th>305</th>\n",
       "      <td>6</td>\n",
       "      <td>1543</td>\n",
       "      <td>4</td>\n",
       "      <td>2</td>\n",
       "      <td>33</td>\n",
       "      <td>1</td>\n",
       "      <td>1</td>\n",
       "      <td>0</td>\n",
       "      <td>0</td>\n",
       "      <td>1</td>\n",
       "      <td>...</td>\n",
       "      <td>0</td>\n",
       "      <td>0</td>\n",
       "      <td>1</td>\n",
       "      <td>1</td>\n",
       "      <td>0</td>\n",
       "      <td>0</td>\n",
       "      <td>1</td>\n",
       "      <td>0</td>\n",
       "      <td>0</td>\n",
       "      <td>0</td>\n",
       "    </tr>\n",
       "    <tr>\n",
       "      <th>126</th>\n",
       "      <td>12</td>\n",
       "      <td>701</td>\n",
       "      <td>4</td>\n",
       "      <td>2</td>\n",
       "      <td>40</td>\n",
       "      <td>1</td>\n",
       "      <td>1</td>\n",
       "      <td>0</td>\n",
       "      <td>0</td>\n",
       "      <td>0</td>\n",
       "      <td>...</td>\n",
       "      <td>0</td>\n",
       "      <td>0</td>\n",
       "      <td>1</td>\n",
       "      <td>1</td>\n",
       "      <td>0</td>\n",
       "      <td>1</td>\n",
       "      <td>0</td>\n",
       "      <td>0</td>\n",
       "      <td>0</td>\n",
       "      <td>0</td>\n",
       "    </tr>\n",
       "  </tbody>\n",
       "</table>\n",
       "<p>3 rows × 48 columns</p>\n",
       "</div>"
      ],
      "text/plain": [
       "     duration  amount  installment  residence  age  cards  liable  \\\n",
       "90         12     618            4          4   56      1       1   \n",
       "305         6    1543            4          2   33      1       1   \n",
       "126        12     701            4          2   40      1       1   \n",
       "\n",
       "     checkingstatus1_A12  checkingstatus1_A13  checkingstatus1_A14  ...  \\\n",
       "90                     0                    0                    1  ...   \n",
       "305                    0                    0                    1  ...   \n",
       "126                    0                    0                    0  ...   \n",
       "\n",
       "     property_A124  otherplans_A142  otherplans_A143  housing_A152  \\\n",
       "90               0                0                1             1   \n",
       "305              0                0                1             1   \n",
       "126              0                0                1             1   \n",
       "\n",
       "     housing_A153  job_A172  job_A173  job_A174  tele_A192  foreign_A202  \n",
       "90              0         0         1         0          0             0  \n",
       "305             0         0         1         0          0             0  \n",
       "126             0         1         0         0          0             0  \n",
       "\n",
       "[3 rows x 48 columns]"
      ]
     },
     "execution_count": 23,
     "metadata": {},
     "output_type": "execute_result"
    }
   ],
   "source": [
    "X_train.head(3)"
   ]
  },
  {
   "cell_type": "code",
   "execution_count": 24,
   "metadata": {},
   "outputs": [
    {
     "data": {
      "text/html": [
       "<div>\n",
       "<style scoped>\n",
       "    .dataframe tbody tr th:only-of-type {\n",
       "        vertical-align: middle;\n",
       "    }\n",
       "\n",
       "    .dataframe tbody tr th {\n",
       "        vertical-align: top;\n",
       "    }\n",
       "\n",
       "    .dataframe thead th {\n",
       "        text-align: right;\n",
       "    }\n",
       "</style>\n",
       "<table border=\"1\" class=\"dataframe\">\n",
       "  <thead>\n",
       "    <tr style=\"text-align: right;\">\n",
       "      <th></th>\n",
       "      <th>duration</th>\n",
       "      <th>amount</th>\n",
       "      <th>installment</th>\n",
       "      <th>residence</th>\n",
       "      <th>age</th>\n",
       "      <th>cards</th>\n",
       "      <th>liable</th>\n",
       "      <th>checkingstatus1_A12</th>\n",
       "      <th>checkingstatus1_A13</th>\n",
       "      <th>checkingstatus1_A14</th>\n",
       "      <th>...</th>\n",
       "      <th>property_A124</th>\n",
       "      <th>otherplans_A142</th>\n",
       "      <th>otherplans_A143</th>\n",
       "      <th>housing_A152</th>\n",
       "      <th>housing_A153</th>\n",
       "      <th>job_A172</th>\n",
       "      <th>job_A173</th>\n",
       "      <th>job_A174</th>\n",
       "      <th>tele_A192</th>\n",
       "      <th>foreign_A202</th>\n",
       "    </tr>\n",
       "  </thead>\n",
       "  <tbody>\n",
       "    <tr>\n",
       "      <th>37</th>\n",
       "      <td>18</td>\n",
       "      <td>2100</td>\n",
       "      <td>4</td>\n",
       "      <td>2</td>\n",
       "      <td>37</td>\n",
       "      <td>1</td>\n",
       "      <td>1</td>\n",
       "      <td>0</td>\n",
       "      <td>1</td>\n",
       "      <td>0</td>\n",
       "      <td>...</td>\n",
       "      <td>0</td>\n",
       "      <td>1</td>\n",
       "      <td>0</td>\n",
       "      <td>1</td>\n",
       "      <td>0</td>\n",
       "      <td>0</td>\n",
       "      <td>1</td>\n",
       "      <td>0</td>\n",
       "      <td>0</td>\n",
       "      <td>0</td>\n",
       "    </tr>\n",
       "    <tr>\n",
       "      <th>726</th>\n",
       "      <td>15</td>\n",
       "      <td>1316</td>\n",
       "      <td>2</td>\n",
       "      <td>2</td>\n",
       "      <td>47</td>\n",
       "      <td>2</td>\n",
       "      <td>1</td>\n",
       "      <td>0</td>\n",
       "      <td>0</td>\n",
       "      <td>1</td>\n",
       "      <td>...</td>\n",
       "      <td>0</td>\n",
       "      <td>0</td>\n",
       "      <td>1</td>\n",
       "      <td>1</td>\n",
       "      <td>0</td>\n",
       "      <td>1</td>\n",
       "      <td>0</td>\n",
       "      <td>0</td>\n",
       "      <td>0</td>\n",
       "      <td>0</td>\n",
       "    </tr>\n",
       "    <tr>\n",
       "      <th>846</th>\n",
       "      <td>18</td>\n",
       "      <td>6761</td>\n",
       "      <td>2</td>\n",
       "      <td>4</td>\n",
       "      <td>68</td>\n",
       "      <td>2</td>\n",
       "      <td>1</td>\n",
       "      <td>0</td>\n",
       "      <td>0</td>\n",
       "      <td>1</td>\n",
       "      <td>...</td>\n",
       "      <td>0</td>\n",
       "      <td>0</td>\n",
       "      <td>1</td>\n",
       "      <td>0</td>\n",
       "      <td>0</td>\n",
       "      <td>0</td>\n",
       "      <td>1</td>\n",
       "      <td>0</td>\n",
       "      <td>0</td>\n",
       "      <td>0</td>\n",
       "    </tr>\n",
       "  </tbody>\n",
       "</table>\n",
       "<p>3 rows × 48 columns</p>\n",
       "</div>"
      ],
      "text/plain": [
       "     duration  amount  installment  residence  age  cards  liable  \\\n",
       "37         18    2100            4          2   37      1       1   \n",
       "726        15    1316            2          2   47      2       1   \n",
       "846        18    6761            2          4   68      2       1   \n",
       "\n",
       "     checkingstatus1_A12  checkingstatus1_A13  checkingstatus1_A14  ...  \\\n",
       "37                     0                    1                    0  ...   \n",
       "726                    0                    0                    1  ...   \n",
       "846                    0                    0                    1  ...   \n",
       "\n",
       "     property_A124  otherplans_A142  otherplans_A143  housing_A152  \\\n",
       "37               0                1                0             1   \n",
       "726              0                0                1             1   \n",
       "846              0                0                1             0   \n",
       "\n",
       "     housing_A153  job_A172  job_A173  job_A174  tele_A192  foreign_A202  \n",
       "37              0         0         1         0          0             0  \n",
       "726             0         1         0         0          0             0  \n",
       "846             0         0         1         0          0             0  \n",
       "\n",
       "[3 rows x 48 columns]"
      ]
     },
     "execution_count": 24,
     "metadata": {},
     "output_type": "execute_result"
    }
   ],
   "source": [
    "X_test.head(3)"
   ]
  },
  {
   "cell_type": "code",
   "execution_count": 25,
   "metadata": {},
   "outputs": [
    {
     "data": {
      "text/plain": [
       "90     0\n",
       "305    0\n",
       "126    0\n",
       "Name: Default, dtype: int64"
      ]
     },
     "execution_count": 25,
     "metadata": {},
     "output_type": "execute_result"
    }
   ],
   "source": [
    "y_train.head(3)"
   ]
  },
  {
   "cell_type": "code",
   "execution_count": 26,
   "metadata": {
    "scrolled": true
   },
   "outputs": [
    {
     "data": {
      "text/plain": [
       "37     1\n",
       "726    0\n",
       "846    1\n",
       "Name: Default, dtype: int64"
      ]
     },
     "execution_count": 26,
     "metadata": {},
     "output_type": "execute_result"
    }
   ],
   "source": [
    "y_test.head(3)"
   ]
  },
  {
   "cell_type": "markdown",
   "metadata": {},
   "source": [
    "---"
   ]
  },
  {
   "cell_type": "markdown",
   "metadata": {},
   "source": [
    "### Different scaling techniques for continuous variables\n",
    "- standard scaler: (x- mean)/stddev - when our X dist are normal in shape\n",
    "- minmax scaler: (x- min(x))/(max(x)-min(x)) - for non-norml X distributions\n",
    "- Formula for robust scaler: x- q1(x)/(iqr) - when it is extremely skewed distribution as it is robust to outliers\n",
    "\n"
   ]
  },
  {
   "cell_type": "code",
   "execution_count": 27,
   "metadata": {},
   "outputs": [],
   "source": [
    "from sklearn.preprocessing import MinMaxScaler"
   ]
  },
  {
   "cell_type": "code",
   "execution_count": 28,
   "metadata": {},
   "outputs": [],
   "source": [
    "m = MinMaxScaler()"
   ]
  },
  {
   "cell_type": "code",
   "execution_count": 29,
   "metadata": {},
   "outputs": [
    {
     "data": {
      "text/plain": [
       "MinMaxScaler(copy=True, feature_range=(0, 1))"
      ]
     },
     "execution_count": 29,
     "metadata": {},
     "output_type": "execute_result"
    }
   ],
   "source": [
    "m.fit(X_train)"
   ]
  },
  {
   "cell_type": "code",
   "execution_count": 30,
   "metadata": {},
   "outputs": [],
   "source": [
    "Xtrain = m.transform(X_train)"
   ]
  },
  {
   "cell_type": "code",
   "execution_count": 31,
   "metadata": {},
   "outputs": [
    {
     "data": {
      "text/plain": [
       "array([[0.14285714, 0.02024871, 1.        , 1.        , 0.66071429,\n",
       "        0.        , 0.        , 0.        , 0.        , 1.        ,\n",
       "        0.        , 0.        , 0.        , 1.        , 0.        ,\n",
       "        0.        , 0.        , 1.        , 0.        , 0.        ,\n",
       "        0.        , 0.        , 0.        , 0.        , 0.        ,\n",
       "        0.        , 0.        , 0.        , 0.        , 0.        ,\n",
       "        1.        , 0.        , 1.        , 0.        , 0.        ,\n",
       "        0.        , 0.        , 0.        , 0.        , 0.        ,\n",
       "        1.        , 1.        , 0.        , 0.        , 1.        ,\n",
       "        0.        , 0.        , 0.        ],\n",
       "       [0.03571429, 0.07114559, 1.        , 0.33333333, 0.25      ,\n",
       "        0.        , 0.        , 0.        , 0.        , 1.        ,\n",
       "        0.        , 1.        , 0.        , 0.        , 0.        ,\n",
       "        0.        , 1.        , 0.        , 0.        , 0.        ,\n",
       "        0.        , 0.        , 0.        , 0.        , 0.        ,\n",
       "        1.        , 0.        , 0.        , 1.        , 0.        ,\n",
       "        0.        , 0.        , 0.        , 0.        , 0.        ,\n",
       "        0.        , 0.        , 0.        , 0.        , 0.        ,\n",
       "        1.        , 1.        , 0.        , 0.        , 1.        ,\n",
       "        0.        , 0.        , 0.        ]])"
      ]
     },
     "execution_count": 31,
     "metadata": {},
     "output_type": "execute_result"
    }
   ],
   "source": [
    "Xtrain[:2]"
   ]
  },
  {
   "cell_type": "code",
   "execution_count": 32,
   "metadata": {},
   "outputs": [],
   "source": [
    "Xtest = m.transform(X_test)"
   ]
  },
  {
   "cell_type": "code",
   "execution_count": 33,
   "metadata": {
    "scrolled": true
   },
   "outputs": [
    {
     "data": {
      "text/plain": [
       "array([[0.25      , 0.10179377, 1.        , 0.33333333, 0.32142857,\n",
       "        0.        , 0.        , 0.        , 1.        , 0.        ,\n",
       "        0.        , 1.        , 0.        , 0.        , 0.        ,\n",
       "        0.        , 0.        , 1.        , 0.        , 0.        ,\n",
       "        0.        , 0.        , 0.        , 0.        , 0.        ,\n",
       "        0.        , 0.        , 0.        , 1.        , 0.        ,\n",
       "        0.        , 0.        , 1.        , 0.        , 1.        ,\n",
       "        0.        , 0.        , 0.        , 0.        , 1.        ,\n",
       "        0.        , 1.        , 0.        , 0.        , 1.        ,\n",
       "        0.        , 0.        , 0.        ],\n",
       "       [0.19642857, 0.05865522, 0.33333333, 0.33333333, 0.5       ,\n",
       "        0.33333333, 0.        , 0.        , 0.        , 1.        ,\n",
       "        0.        , 0.        , 0.        , 1.        , 0.        ,\n",
       "        0.        , 0.        , 1.        , 0.        , 0.        ,\n",
       "        0.        , 0.        , 0.        , 0.        , 1.        ,\n",
       "        0.        , 0.        , 0.        , 1.        , 0.        ,\n",
       "        0.        , 0.        , 0.        , 1.        , 0.        ,\n",
       "        0.        , 1.        , 0.        , 0.        , 0.        ,\n",
       "        1.        , 1.        , 0.        , 1.        , 0.        ,\n",
       "        0.        , 0.        , 0.        ],\n",
       "       [0.25      , 0.35825905, 0.33333333, 1.        , 0.875     ,\n",
       "        0.33333333, 0.        , 0.        , 0.        , 1.        ,\n",
       "        0.        , 1.        , 0.        , 0.        , 0.        ,\n",
       "        0.        , 0.        , 0.        , 0.        , 0.        ,\n",
       "        0.        , 0.        , 0.        , 0.        , 0.        ,\n",
       "        0.        , 1.        , 0.        , 1.        , 0.        ,\n",
       "        0.        , 0.        , 1.        , 0.        , 0.        ,\n",
       "        0.        , 0.        , 1.        , 0.        , 0.        ,\n",
       "        1.        , 0.        , 0.        , 0.        , 1.        ,\n",
       "        0.        , 0.        , 0.        ]])"
      ]
     },
     "execution_count": 33,
     "metadata": {},
     "output_type": "execute_result"
    }
   ],
   "source": [
    "Xtest[:3]"
   ]
  },
  {
   "cell_type": "markdown",
   "metadata": {},
   "source": [
    "---"
   ]
  },
  {
   "cell_type": "code",
   "execution_count": 137,
   "metadata": {},
   "outputs": [],
   "source": [
    "#convert Xtrain Xtest y train ytest to dataframe"
   ]
  },
  {
   "cell_type": "code",
   "execution_count": 34,
   "metadata": {},
   "outputs": [
    {
     "data": {
      "text/html": [
       "<div>\n",
       "<style scoped>\n",
       "    .dataframe tbody tr th:only-of-type {\n",
       "        vertical-align: middle;\n",
       "    }\n",
       "\n",
       "    .dataframe tbody tr th {\n",
       "        vertical-align: top;\n",
       "    }\n",
       "\n",
       "    .dataframe thead th {\n",
       "        text-align: right;\n",
       "    }\n",
       "</style>\n",
       "<table border=\"1\" class=\"dataframe\">\n",
       "  <thead>\n",
       "    <tr style=\"text-align: right;\">\n",
       "      <th></th>\n",
       "      <th>duration</th>\n",
       "      <th>amount</th>\n",
       "      <th>installment</th>\n",
       "      <th>residence</th>\n",
       "      <th>age</th>\n",
       "      <th>cards</th>\n",
       "      <th>liable</th>\n",
       "      <th>checkingstatus1_A12</th>\n",
       "      <th>checkingstatus1_A13</th>\n",
       "      <th>checkingstatus1_A14</th>\n",
       "      <th>...</th>\n",
       "      <th>property_A124</th>\n",
       "      <th>otherplans_A142</th>\n",
       "      <th>otherplans_A143</th>\n",
       "      <th>housing_A152</th>\n",
       "      <th>housing_A153</th>\n",
       "      <th>job_A172</th>\n",
       "      <th>job_A173</th>\n",
       "      <th>job_A174</th>\n",
       "      <th>tele_A192</th>\n",
       "      <th>foreign_A202</th>\n",
       "    </tr>\n",
       "  </thead>\n",
       "  <tbody>\n",
       "    <tr>\n",
       "      <th>0</th>\n",
       "      <td>0.142857</td>\n",
       "      <td>0.020249</td>\n",
       "      <td>1.0</td>\n",
       "      <td>1.000000</td>\n",
       "      <td>0.660714</td>\n",
       "      <td>0.0</td>\n",
       "      <td>0.0</td>\n",
       "      <td>0.0</td>\n",
       "      <td>0.0</td>\n",
       "      <td>1.0</td>\n",
       "      <td>...</td>\n",
       "      <td>0.0</td>\n",
       "      <td>0.0</td>\n",
       "      <td>1.0</td>\n",
       "      <td>1.0</td>\n",
       "      <td>0.0</td>\n",
       "      <td>0.0</td>\n",
       "      <td>1.0</td>\n",
       "      <td>0.0</td>\n",
       "      <td>0.0</td>\n",
       "      <td>0.0</td>\n",
       "    </tr>\n",
       "    <tr>\n",
       "      <th>1</th>\n",
       "      <td>0.035714</td>\n",
       "      <td>0.071146</td>\n",
       "      <td>1.0</td>\n",
       "      <td>0.333333</td>\n",
       "      <td>0.250000</td>\n",
       "      <td>0.0</td>\n",
       "      <td>0.0</td>\n",
       "      <td>0.0</td>\n",
       "      <td>0.0</td>\n",
       "      <td>1.0</td>\n",
       "      <td>...</td>\n",
       "      <td>0.0</td>\n",
       "      <td>0.0</td>\n",
       "      <td>1.0</td>\n",
       "      <td>1.0</td>\n",
       "      <td>0.0</td>\n",
       "      <td>0.0</td>\n",
       "      <td>1.0</td>\n",
       "      <td>0.0</td>\n",
       "      <td>0.0</td>\n",
       "      <td>0.0</td>\n",
       "    </tr>\n",
       "  </tbody>\n",
       "</table>\n",
       "<p>2 rows × 48 columns</p>\n",
       "</div>"
      ],
      "text/plain": [
       "   duration    amount  installment  residence       age  cards  liable  \\\n",
       "0  0.142857  0.020249          1.0   1.000000  0.660714    0.0     0.0   \n",
       "1  0.035714  0.071146          1.0   0.333333  0.250000    0.0     0.0   \n",
       "\n",
       "   checkingstatus1_A12  checkingstatus1_A13  checkingstatus1_A14  ...  \\\n",
       "0                  0.0                  0.0                  1.0  ...   \n",
       "1                  0.0                  0.0                  1.0  ...   \n",
       "\n",
       "   property_A124  otherplans_A142  otherplans_A143  housing_A152  \\\n",
       "0            0.0              0.0              1.0           1.0   \n",
       "1            0.0              0.0              1.0           1.0   \n",
       "\n",
       "   housing_A153  job_A172  job_A173  job_A174  tele_A192  foreign_A202  \n",
       "0           0.0       0.0       1.0       0.0        0.0           0.0  \n",
       "1           0.0       0.0       1.0       0.0        0.0           0.0  \n",
       "\n",
       "[2 rows x 48 columns]"
      ]
     },
     "execution_count": 34,
     "metadata": {},
     "output_type": "execute_result"
    }
   ],
   "source": [
    "Xtr = pd.DataFrame(Xtrain, columns=X_train.columns)\n",
    "Xtr.head(2)"
   ]
  },
  {
   "cell_type": "code",
   "execution_count": 35,
   "metadata": {},
   "outputs": [
    {
     "data": {
      "text/html": [
       "<div>\n",
       "<style scoped>\n",
       "    .dataframe tbody tr th:only-of-type {\n",
       "        vertical-align: middle;\n",
       "    }\n",
       "\n",
       "    .dataframe tbody tr th {\n",
       "        vertical-align: top;\n",
       "    }\n",
       "\n",
       "    .dataframe thead th {\n",
       "        text-align: right;\n",
       "    }\n",
       "</style>\n",
       "<table border=\"1\" class=\"dataframe\">\n",
       "  <thead>\n",
       "    <tr style=\"text-align: right;\">\n",
       "      <th></th>\n",
       "      <th>duration</th>\n",
       "      <th>amount</th>\n",
       "      <th>installment</th>\n",
       "      <th>residence</th>\n",
       "      <th>age</th>\n",
       "      <th>cards</th>\n",
       "      <th>liable</th>\n",
       "      <th>checkingstatus1_A12</th>\n",
       "      <th>checkingstatus1_A13</th>\n",
       "      <th>checkingstatus1_A14</th>\n",
       "      <th>...</th>\n",
       "      <th>property_A124</th>\n",
       "      <th>otherplans_A142</th>\n",
       "      <th>otherplans_A143</th>\n",
       "      <th>housing_A152</th>\n",
       "      <th>housing_A153</th>\n",
       "      <th>job_A172</th>\n",
       "      <th>job_A173</th>\n",
       "      <th>job_A174</th>\n",
       "      <th>tele_A192</th>\n",
       "      <th>foreign_A202</th>\n",
       "    </tr>\n",
       "  </thead>\n",
       "  <tbody>\n",
       "    <tr>\n",
       "      <th>0</th>\n",
       "      <td>0.250000</td>\n",
       "      <td>0.101794</td>\n",
       "      <td>1.000000</td>\n",
       "      <td>0.333333</td>\n",
       "      <td>0.321429</td>\n",
       "      <td>0.000000</td>\n",
       "      <td>0.0</td>\n",
       "      <td>0.0</td>\n",
       "      <td>1.0</td>\n",
       "      <td>0.0</td>\n",
       "      <td>...</td>\n",
       "      <td>0.0</td>\n",
       "      <td>1.0</td>\n",
       "      <td>0.0</td>\n",
       "      <td>1.0</td>\n",
       "      <td>0.0</td>\n",
       "      <td>0.0</td>\n",
       "      <td>1.0</td>\n",
       "      <td>0.0</td>\n",
       "      <td>0.0</td>\n",
       "      <td>0.0</td>\n",
       "    </tr>\n",
       "    <tr>\n",
       "      <th>1</th>\n",
       "      <td>0.196429</td>\n",
       "      <td>0.058655</td>\n",
       "      <td>0.333333</td>\n",
       "      <td>0.333333</td>\n",
       "      <td>0.500000</td>\n",
       "      <td>0.333333</td>\n",
       "      <td>0.0</td>\n",
       "      <td>0.0</td>\n",
       "      <td>0.0</td>\n",
       "      <td>1.0</td>\n",
       "      <td>...</td>\n",
       "      <td>0.0</td>\n",
       "      <td>0.0</td>\n",
       "      <td>1.0</td>\n",
       "      <td>1.0</td>\n",
       "      <td>0.0</td>\n",
       "      <td>1.0</td>\n",
       "      <td>0.0</td>\n",
       "      <td>0.0</td>\n",
       "      <td>0.0</td>\n",
       "      <td>0.0</td>\n",
       "    </tr>\n",
       "  </tbody>\n",
       "</table>\n",
       "<p>2 rows × 48 columns</p>\n",
       "</div>"
      ],
      "text/plain": [
       "   duration    amount  installment  residence       age     cards  liable  \\\n",
       "0  0.250000  0.101794     1.000000   0.333333  0.321429  0.000000     0.0   \n",
       "1  0.196429  0.058655     0.333333   0.333333  0.500000  0.333333     0.0   \n",
       "\n",
       "   checkingstatus1_A12  checkingstatus1_A13  checkingstatus1_A14  ...  \\\n",
       "0                  0.0                  1.0                  0.0  ...   \n",
       "1                  0.0                  0.0                  1.0  ...   \n",
       "\n",
       "   property_A124  otherplans_A142  otherplans_A143  housing_A152  \\\n",
       "0            0.0              1.0              0.0           1.0   \n",
       "1            0.0              0.0              1.0           1.0   \n",
       "\n",
       "   housing_A153  job_A172  job_A173  job_A174  tele_A192  foreign_A202  \n",
       "0           0.0       0.0       1.0       0.0        0.0           0.0  \n",
       "1           0.0       1.0       0.0       0.0        0.0           0.0  \n",
       "\n",
       "[2 rows x 48 columns]"
      ]
     },
     "execution_count": 35,
     "metadata": {},
     "output_type": "execute_result"
    }
   ],
   "source": [
    "X_test = pd.DataFrame(Xtest, columns=X_test.columns)\n",
    "X_test.head(2)"
   ]
  },
  {
   "cell_type": "markdown",
   "metadata": {},
   "source": [
    "#### Concatenate y train and Xtrain ; y test and Xtest\n",
    "- for this reset the indices of y train and ytest"
   ]
  },
  {
   "cell_type": "code",
   "execution_count": 140,
   "metadata": {},
   "outputs": [
    {
     "data": {
      "text/plain": [
       "90     0\n",
       "305    0\n",
       "126    0\n",
       "Name: Default, dtype: int64"
      ]
     },
     "execution_count": 140,
     "metadata": {},
     "output_type": "execute_result"
    }
   ],
   "source": [
    "y_train[:3]"
   ]
  },
  {
   "cell_type": "code",
   "execution_count": 141,
   "metadata": {
    "scrolled": true
   },
   "outputs": [
    {
     "data": {
      "text/plain": [
       "pandas.core.series.Series"
      ]
     },
     "execution_count": 141,
     "metadata": {},
     "output_type": "execute_result"
    }
   ],
   "source": [
    "type(y_train)"
   ]
  },
  {
   "cell_type": "code",
   "execution_count": 142,
   "metadata": {
    "scrolled": true
   },
   "outputs": [
    {
     "data": {
      "text/plain": [
       "(700,)"
      ]
     },
     "execution_count": 142,
     "metadata": {},
     "output_type": "execute_result"
    }
   ],
   "source": [
    "y_train.shape"
   ]
  },
  {
   "cell_type": "code",
   "execution_count": 143,
   "metadata": {},
   "outputs": [
    {
     "data": {
      "text/plain": [
       "(700, 48)"
      ]
     },
     "execution_count": 143,
     "metadata": {},
     "output_type": "execute_result"
    }
   ],
   "source": [
    "Xtr.shape"
   ]
  },
  {
   "cell_type": "code",
   "execution_count": 144,
   "metadata": {},
   "outputs": [
    {
     "data": {
      "text/plain": [
       "RangeIndex(start=0, stop=700, step=1)"
      ]
     },
     "execution_count": 144,
     "metadata": {},
     "output_type": "execute_result"
    }
   ],
   "source": [
    "Xtr.index"
   ]
  },
  {
   "cell_type": "code",
   "execution_count": 37,
   "metadata": {},
   "outputs": [],
   "source": [
    "y_train = y_train.reset_index()"
   ]
  },
  {
   "cell_type": "code",
   "execution_count": 38,
   "metadata": {},
   "outputs": [],
   "source": [
    "y_test = y_test.reset_index()"
   ]
  },
  {
   "cell_type": "code",
   "execution_count": 39,
   "metadata": {},
   "outputs": [],
   "source": [
    "y_train.drop(\"index\", axis =1, inplace=True\n",
    "            )"
   ]
  },
  {
   "cell_type": "code",
   "execution_count": 40,
   "metadata": {},
   "outputs": [],
   "source": [
    "y_test.drop(\"index\", axis = 1, inplace=True)"
   ]
  },
  {
   "cell_type": "code",
   "execution_count": 41,
   "metadata": {},
   "outputs": [
    {
     "data": {
      "text/html": [
       "<div>\n",
       "<style scoped>\n",
       "    .dataframe tbody tr th:only-of-type {\n",
       "        vertical-align: middle;\n",
       "    }\n",
       "\n",
       "    .dataframe tbody tr th {\n",
       "        vertical-align: top;\n",
       "    }\n",
       "\n",
       "    .dataframe thead th {\n",
       "        text-align: right;\n",
       "    }\n",
       "</style>\n",
       "<table border=\"1\" class=\"dataframe\">\n",
       "  <thead>\n",
       "    <tr style=\"text-align: right;\">\n",
       "      <th></th>\n",
       "      <th>Default</th>\n",
       "      <th>duration</th>\n",
       "      <th>amount</th>\n",
       "      <th>installment</th>\n",
       "      <th>residence</th>\n",
       "      <th>age</th>\n",
       "      <th>cards</th>\n",
       "      <th>liable</th>\n",
       "      <th>checkingstatus1_A12</th>\n",
       "      <th>checkingstatus1_A13</th>\n",
       "      <th>...</th>\n",
       "      <th>property_A124</th>\n",
       "      <th>otherplans_A142</th>\n",
       "      <th>otherplans_A143</th>\n",
       "      <th>housing_A152</th>\n",
       "      <th>housing_A153</th>\n",
       "      <th>job_A172</th>\n",
       "      <th>job_A173</th>\n",
       "      <th>job_A174</th>\n",
       "      <th>tele_A192</th>\n",
       "      <th>foreign_A202</th>\n",
       "    </tr>\n",
       "  </thead>\n",
       "  <tbody>\n",
       "    <tr>\n",
       "      <th>0</th>\n",
       "      <td>0</td>\n",
       "      <td>0.142857</td>\n",
       "      <td>0.020249</td>\n",
       "      <td>1.0</td>\n",
       "      <td>1.000000</td>\n",
       "      <td>0.660714</td>\n",
       "      <td>0.0</td>\n",
       "      <td>0.0</td>\n",
       "      <td>0.0</td>\n",
       "      <td>0.0</td>\n",
       "      <td>...</td>\n",
       "      <td>0.0</td>\n",
       "      <td>0.0</td>\n",
       "      <td>1.0</td>\n",
       "      <td>1.0</td>\n",
       "      <td>0.0</td>\n",
       "      <td>0.0</td>\n",
       "      <td>1.0</td>\n",
       "      <td>0.0</td>\n",
       "      <td>0.0</td>\n",
       "      <td>0.0</td>\n",
       "    </tr>\n",
       "    <tr>\n",
       "      <th>1</th>\n",
       "      <td>0</td>\n",
       "      <td>0.035714</td>\n",
       "      <td>0.071146</td>\n",
       "      <td>1.0</td>\n",
       "      <td>0.333333</td>\n",
       "      <td>0.250000</td>\n",
       "      <td>0.0</td>\n",
       "      <td>0.0</td>\n",
       "      <td>0.0</td>\n",
       "      <td>0.0</td>\n",
       "      <td>...</td>\n",
       "      <td>0.0</td>\n",
       "      <td>0.0</td>\n",
       "      <td>1.0</td>\n",
       "      <td>1.0</td>\n",
       "      <td>0.0</td>\n",
       "      <td>0.0</td>\n",
       "      <td>1.0</td>\n",
       "      <td>0.0</td>\n",
       "      <td>0.0</td>\n",
       "      <td>0.0</td>\n",
       "    </tr>\n",
       "  </tbody>\n",
       "</table>\n",
       "<p>2 rows × 49 columns</p>\n",
       "</div>"
      ],
      "text/plain": [
       "   Default  duration    amount  installment  residence       age  cards  \\\n",
       "0        0  0.142857  0.020249          1.0   1.000000  0.660714    0.0   \n",
       "1        0  0.035714  0.071146          1.0   0.333333  0.250000    0.0   \n",
       "\n",
       "   liable  checkingstatus1_A12  checkingstatus1_A13  ...  property_A124  \\\n",
       "0     0.0                  0.0                  0.0  ...            0.0   \n",
       "1     0.0                  0.0                  0.0  ...            0.0   \n",
       "\n",
       "   otherplans_A142  otherplans_A143  housing_A152  housing_A153  job_A172  \\\n",
       "0              0.0              1.0           1.0           0.0       0.0   \n",
       "1              0.0              1.0           1.0           0.0       0.0   \n",
       "\n",
       "   job_A173  job_A174  tele_A192  foreign_A202  \n",
       "0       1.0       0.0        0.0           0.0  \n",
       "1       1.0       0.0        0.0           0.0  \n",
       "\n",
       "[2 rows x 49 columns]"
      ]
     },
     "execution_count": 41,
     "metadata": {},
     "output_type": "execute_result"
    }
   ],
   "source": [
    "train = pd.concat((y_train, Xtr), axis =1)\n",
    "train.head(2)"
   ]
  },
  {
   "cell_type": "code",
   "execution_count": 42,
   "metadata": {
    "scrolled": true
   },
   "outputs": [
    {
     "data": {
      "text/html": [
       "<div>\n",
       "<style scoped>\n",
       "    .dataframe tbody tr th:only-of-type {\n",
       "        vertical-align: middle;\n",
       "    }\n",
       "\n",
       "    .dataframe tbody tr th {\n",
       "        vertical-align: top;\n",
       "    }\n",
       "\n",
       "    .dataframe thead th {\n",
       "        text-align: right;\n",
       "    }\n",
       "</style>\n",
       "<table border=\"1\" class=\"dataframe\">\n",
       "  <thead>\n",
       "    <tr style=\"text-align: right;\">\n",
       "      <th></th>\n",
       "      <th>Default</th>\n",
       "      <th>duration</th>\n",
       "      <th>amount</th>\n",
       "      <th>installment</th>\n",
       "      <th>residence</th>\n",
       "      <th>age</th>\n",
       "      <th>cards</th>\n",
       "      <th>liable</th>\n",
       "      <th>checkingstatus1_A12</th>\n",
       "      <th>checkingstatus1_A13</th>\n",
       "      <th>...</th>\n",
       "      <th>property_A124</th>\n",
       "      <th>otherplans_A142</th>\n",
       "      <th>otherplans_A143</th>\n",
       "      <th>housing_A152</th>\n",
       "      <th>housing_A153</th>\n",
       "      <th>job_A172</th>\n",
       "      <th>job_A173</th>\n",
       "      <th>job_A174</th>\n",
       "      <th>tele_A192</th>\n",
       "      <th>foreign_A202</th>\n",
       "    </tr>\n",
       "  </thead>\n",
       "  <tbody>\n",
       "    <tr>\n",
       "      <th>0</th>\n",
       "      <td>1</td>\n",
       "      <td>0.250000</td>\n",
       "      <td>0.101794</td>\n",
       "      <td>1.000000</td>\n",
       "      <td>0.333333</td>\n",
       "      <td>0.321429</td>\n",
       "      <td>0.000000</td>\n",
       "      <td>0.0</td>\n",
       "      <td>0.0</td>\n",
       "      <td>1.0</td>\n",
       "      <td>...</td>\n",
       "      <td>0.0</td>\n",
       "      <td>1.0</td>\n",
       "      <td>0.0</td>\n",
       "      <td>1.0</td>\n",
       "      <td>0.0</td>\n",
       "      <td>0.0</td>\n",
       "      <td>1.0</td>\n",
       "      <td>0.0</td>\n",
       "      <td>0.0</td>\n",
       "      <td>0.0</td>\n",
       "    </tr>\n",
       "    <tr>\n",
       "      <th>1</th>\n",
       "      <td>0</td>\n",
       "      <td>0.196429</td>\n",
       "      <td>0.058655</td>\n",
       "      <td>0.333333</td>\n",
       "      <td>0.333333</td>\n",
       "      <td>0.500000</td>\n",
       "      <td>0.333333</td>\n",
       "      <td>0.0</td>\n",
       "      <td>0.0</td>\n",
       "      <td>0.0</td>\n",
       "      <td>...</td>\n",
       "      <td>0.0</td>\n",
       "      <td>0.0</td>\n",
       "      <td>1.0</td>\n",
       "      <td>1.0</td>\n",
       "      <td>0.0</td>\n",
       "      <td>1.0</td>\n",
       "      <td>0.0</td>\n",
       "      <td>0.0</td>\n",
       "      <td>0.0</td>\n",
       "      <td>0.0</td>\n",
       "    </tr>\n",
       "  </tbody>\n",
       "</table>\n",
       "<p>2 rows × 49 columns</p>\n",
       "</div>"
      ],
      "text/plain": [
       "   Default  duration    amount  installment  residence       age     cards  \\\n",
       "0        1  0.250000  0.101794     1.000000   0.333333  0.321429  0.000000   \n",
       "1        0  0.196429  0.058655     0.333333   0.333333  0.500000  0.333333   \n",
       "\n",
       "   liable  checkingstatus1_A12  checkingstatus1_A13  ...  property_A124  \\\n",
       "0     0.0                  0.0                  1.0  ...            0.0   \n",
       "1     0.0                  0.0                  0.0  ...            0.0   \n",
       "\n",
       "   otherplans_A142  otherplans_A143  housing_A152  housing_A153  job_A172  \\\n",
       "0              1.0              0.0           1.0           0.0       0.0   \n",
       "1              0.0              1.0           1.0           0.0       1.0   \n",
       "\n",
       "   job_A173  job_A174  tele_A192  foreign_A202  \n",
       "0       1.0       0.0        0.0           0.0  \n",
       "1       0.0       0.0        0.0           0.0  \n",
       "\n",
       "[2 rows x 49 columns]"
      ]
     },
     "execution_count": 42,
     "metadata": {},
     "output_type": "execute_result"
    }
   ],
   "source": [
    "test = pd.concat((y_test, X_test), axis =1)\n",
    "test.head(2)"
   ]
  },
  {
   "cell_type": "code",
   "execution_count": 151,
   "metadata": {},
   "outputs": [
    {
     "data": {
      "text/plain": [
       "(0.0, 1.0)"
      ]
     },
     "execution_count": 151,
     "metadata": {},
     "output_type": "execute_result"
    }
   ],
   "source": [
    "train.duration.min(), train.duration.max()"
   ]
  },
  {
   "cell_type": "markdown",
   "metadata": {},
   "source": [
    "---"
   ]
  },
  {
   "cell_type": "markdown",
   "metadata": {},
   "source": [
    "### Implement logistic regression model"
   ]
  },
  {
   "cell_type": "markdown",
   "metadata": {},
   "source": [
    "__Linear regression:__ continuous response is modeled as a linear combination of the features:\n",
    "\n",
    "$$y = \\beta_0 + \\beta_1.x$$\n",
    "\n",
    "__Logistic regression:__ log-odds of a categorical response being \"true\" (1) is modeled as a linear combination of the features:\n",
    "\n",
    "$$log\\frac{p}{1−p} = y = \\beta_0 + \\beta_1.x$$\n",
    "\n",
    "But how ????\n",
    "\n",
    "$$y = \\beta_0 + \\beta_1.x$$\n",
    "\n",
    "$$ P = logit(\\hat{y}) = \\frac{1}{1 + e^{-y}}$$\n",
    "\n",
    "$$ P = \\frac{1}{1 + \\frac{1}{e^{y}}}$$\n",
    "\n",
    "$$ P = \\frac{e^{y}}{1 + e^{y}}$$\n",
    "\n",
    "$$ \\frac{1}{P} = \\frac{1 + e^{y}}{e^{y}}$$\n",
    "\n",
    "$$ \\frac{1}{P} - 1 = \\frac{1 + e^{y}}{e^{y}} - 1$$\n",
    "\n",
    "$$ \\frac{1 - P}{P} = \\frac{1 }{e^{y}} $$\n",
    "\n",
    "$$ \\frac{P}{1 - P} = e^{y} $$\n",
    "\n",
    "$$ e^{y} = \\frac{P}{1 - P} $$\n",
    "\n",
    "$$ y = log(\\frac{P}{1 - P}) $$\n",
    "\n",
    "__This is called the logit function.__\n",
    "\n",
    "Probability is sometimes written as pi:\n",
    "\n",
    "$$log\\frac{\\pi}{1 - \\pi} = \\beta_0 + \\beta_1.x$$\n",
    "\n",
    "$$\\frac{\\pi}{1 - \\pi} = e^{\\beta_0 + \\beta_1.x}$$\n",
    "\n",
    "$$\\frac{1 - \\pi}{\\pi} = \\frac{1}{e^{\\beta_0 + \\beta_1.x}}$$\n",
    "\n",
    "$$\\frac{1}{\\pi} = 1 + \\frac{1}{e^{\\beta_0 + \\beta_1.x}}$$\n",
    "\n",
    "$$\\frac{1}{\\pi} = \\frac{1 + e^{\\beta_0 + \\beta_1.x}}{e^{\\beta_0 + \\beta_1.x}}$$\n",
    "\n",
    "The equation can be rearranged into the logistic function:\n",
    "\n",
    "$$\\pi = \\frac{e^{\\beta_0 + \\beta_1.x}} {1+ e^{\\beta_0 + \\beta_1.x}} $$\n",
    "\n",
    "$$\\pi = \\frac{e^y} {1+ e^y} $$\n",
    "\n",
    "$$\\pi = \\frac{1} {1 + e^{-y}}  ==> Sigmoid-function$$\n",
    "\n",
    "In other words:\n",
    "\n",
    "Logistic regression outputs the probabilities of a specific class\n",
    "Those probabilities can be converted into class predictions\n",
    "The logistic function has some nice properties:\n",
    "\n",
    "Takes on an \"s\" shape\n",
    "Output is bounded by 0 and 1\n",
    "We have covered how this works for binary classification problems (two response classes). But what about multi-class classification problems (more than two response classes)?\n",
    "\n",
    "Most common solution for classification models is \"one-vs-all\" (also known as \"one-vs-rest\"): decompose the problem into multiple binary classification problems\n",
    "Multinomial logistic regression can solve this as a single problem"
   ]
  },
  {
   "cell_type": "code",
   "execution_count": 50,
   "metadata": {},
   "outputs": [],
   "source": [
    "from statsmodels.formula.api import glm\n",
    "import statsmodels.api as sm "
   ]
  },
  {
   "cell_type": "code",
   "execution_count": 153,
   "metadata": {},
   "outputs": [
    {
     "data": {
      "text/html": [
       "<div>\n",
       "<style scoped>\n",
       "    .dataframe tbody tr th:only-of-type {\n",
       "        vertical-align: middle;\n",
       "    }\n",
       "\n",
       "    .dataframe tbody tr th {\n",
       "        vertical-align: top;\n",
       "    }\n",
       "\n",
       "    .dataframe thead th {\n",
       "        text-align: right;\n",
       "    }\n",
       "</style>\n",
       "<table border=\"1\" class=\"dataframe\">\n",
       "  <thead>\n",
       "    <tr style=\"text-align: right;\">\n",
       "      <th></th>\n",
       "      <th>Default</th>\n",
       "      <th>duration</th>\n",
       "      <th>amount</th>\n",
       "      <th>installment</th>\n",
       "      <th>residence</th>\n",
       "      <th>age</th>\n",
       "      <th>cards</th>\n",
       "      <th>liable</th>\n",
       "      <th>checkingstatus1_A12</th>\n",
       "      <th>checkingstatus1_A13</th>\n",
       "      <th>...</th>\n",
       "      <th>property_A124</th>\n",
       "      <th>otherplans_A142</th>\n",
       "      <th>otherplans_A143</th>\n",
       "      <th>housing_A152</th>\n",
       "      <th>housing_A153</th>\n",
       "      <th>job_A172</th>\n",
       "      <th>job_A173</th>\n",
       "      <th>job_A174</th>\n",
       "      <th>tele_A192</th>\n",
       "      <th>foreign_A202</th>\n",
       "    </tr>\n",
       "  </thead>\n",
       "  <tbody>\n",
       "    <tr>\n",
       "      <th>0</th>\n",
       "      <td>0</td>\n",
       "      <td>0.142857</td>\n",
       "      <td>0.020249</td>\n",
       "      <td>1.000000</td>\n",
       "      <td>1.000000</td>\n",
       "      <td>0.660714</td>\n",
       "      <td>0.000000</td>\n",
       "      <td>0.0</td>\n",
       "      <td>0.0</td>\n",
       "      <td>0.0</td>\n",
       "      <td>...</td>\n",
       "      <td>0.0</td>\n",
       "      <td>0.0</td>\n",
       "      <td>1.0</td>\n",
       "      <td>1.0</td>\n",
       "      <td>0.0</td>\n",
       "      <td>0.0</td>\n",
       "      <td>1.0</td>\n",
       "      <td>0.0</td>\n",
       "      <td>0.0</td>\n",
       "      <td>0.0</td>\n",
       "    </tr>\n",
       "    <tr>\n",
       "      <th>1</th>\n",
       "      <td>0</td>\n",
       "      <td>0.035714</td>\n",
       "      <td>0.071146</td>\n",
       "      <td>1.000000</td>\n",
       "      <td>0.333333</td>\n",
       "      <td>0.250000</td>\n",
       "      <td>0.000000</td>\n",
       "      <td>0.0</td>\n",
       "      <td>0.0</td>\n",
       "      <td>0.0</td>\n",
       "      <td>...</td>\n",
       "      <td>0.0</td>\n",
       "      <td>0.0</td>\n",
       "      <td>1.0</td>\n",
       "      <td>1.0</td>\n",
       "      <td>0.0</td>\n",
       "      <td>0.0</td>\n",
       "      <td>1.0</td>\n",
       "      <td>0.0</td>\n",
       "      <td>0.0</td>\n",
       "      <td>0.0</td>\n",
       "    </tr>\n",
       "    <tr>\n",
       "      <th>2</th>\n",
       "      <td>0</td>\n",
       "      <td>0.142857</td>\n",
       "      <td>0.024816</td>\n",
       "      <td>1.000000</td>\n",
       "      <td>0.333333</td>\n",
       "      <td>0.375000</td>\n",
       "      <td>0.000000</td>\n",
       "      <td>0.0</td>\n",
       "      <td>0.0</td>\n",
       "      <td>0.0</td>\n",
       "      <td>...</td>\n",
       "      <td>0.0</td>\n",
       "      <td>0.0</td>\n",
       "      <td>1.0</td>\n",
       "      <td>1.0</td>\n",
       "      <td>0.0</td>\n",
       "      <td>1.0</td>\n",
       "      <td>0.0</td>\n",
       "      <td>0.0</td>\n",
       "      <td>0.0</td>\n",
       "      <td>0.0</td>\n",
       "    </tr>\n",
       "    <tr>\n",
       "      <th>3</th>\n",
       "      <td>1</td>\n",
       "      <td>0.357143</td>\n",
       "      <td>0.118136</td>\n",
       "      <td>0.666667</td>\n",
       "      <td>0.333333</td>\n",
       "      <td>0.285714</td>\n",
       "      <td>0.333333</td>\n",
       "      <td>0.0</td>\n",
       "      <td>0.0</td>\n",
       "      <td>0.0</td>\n",
       "      <td>...</td>\n",
       "      <td>0.0</td>\n",
       "      <td>0.0</td>\n",
       "      <td>0.0</td>\n",
       "      <td>1.0</td>\n",
       "      <td>0.0</td>\n",
       "      <td>0.0</td>\n",
       "      <td>1.0</td>\n",
       "      <td>0.0</td>\n",
       "      <td>1.0</td>\n",
       "      <td>0.0</td>\n",
       "    </tr>\n",
       "    <tr>\n",
       "      <th>4</th>\n",
       "      <td>0</td>\n",
       "      <td>0.107143</td>\n",
       "      <td>0.388357</td>\n",
       "      <td>0.333333</td>\n",
       "      <td>1.000000</td>\n",
       "      <td>0.910714</td>\n",
       "      <td>0.000000</td>\n",
       "      <td>0.0</td>\n",
       "      <td>1.0</td>\n",
       "      <td>0.0</td>\n",
       "      <td>...</td>\n",
       "      <td>1.0</td>\n",
       "      <td>0.0</td>\n",
       "      <td>0.0</td>\n",
       "      <td>0.0</td>\n",
       "      <td>1.0</td>\n",
       "      <td>0.0</td>\n",
       "      <td>0.0</td>\n",
       "      <td>1.0</td>\n",
       "      <td>1.0</td>\n",
       "      <td>0.0</td>\n",
       "    </tr>\n",
       "  </tbody>\n",
       "</table>\n",
       "<p>5 rows × 49 columns</p>\n",
       "</div>"
      ],
      "text/plain": [
       "   Default  duration    amount  installment  residence       age     cards  \\\n",
       "0        0  0.142857  0.020249     1.000000   1.000000  0.660714  0.000000   \n",
       "1        0  0.035714  0.071146     1.000000   0.333333  0.250000  0.000000   \n",
       "2        0  0.142857  0.024816     1.000000   0.333333  0.375000  0.000000   \n",
       "3        1  0.357143  0.118136     0.666667   0.333333  0.285714  0.333333   \n",
       "4        0  0.107143  0.388357     0.333333   1.000000  0.910714  0.000000   \n",
       "\n",
       "   liable  checkingstatus1_A12  checkingstatus1_A13  ...  property_A124  \\\n",
       "0     0.0                  0.0                  0.0  ...            0.0   \n",
       "1     0.0                  0.0                  0.0  ...            0.0   \n",
       "2     0.0                  0.0                  0.0  ...            0.0   \n",
       "3     0.0                  0.0                  0.0  ...            0.0   \n",
       "4     0.0                  1.0                  0.0  ...            1.0   \n",
       "\n",
       "   otherplans_A142  otherplans_A143  housing_A152  housing_A153  job_A172  \\\n",
       "0              0.0              1.0           1.0           0.0       0.0   \n",
       "1              0.0              1.0           1.0           0.0       0.0   \n",
       "2              0.0              1.0           1.0           0.0       1.0   \n",
       "3              0.0              0.0           1.0           0.0       0.0   \n",
       "4              0.0              0.0           0.0           1.0       0.0   \n",
       "\n",
       "   job_A173  job_A174  tele_A192  foreign_A202  \n",
       "0       1.0       0.0        0.0           0.0  \n",
       "1       1.0       0.0        0.0           0.0  \n",
       "2       0.0       0.0        0.0           0.0  \n",
       "3       1.0       0.0        1.0           0.0  \n",
       "4       0.0       1.0        1.0           0.0  \n",
       "\n",
       "[5 rows x 49 columns]"
      ]
     },
     "execution_count": 153,
     "metadata": {},
     "output_type": "execute_result"
    }
   ],
   "source": [
    "train.head()"
   ]
  },
  {
   "cell_type": "code",
   "execution_count": 53,
   "metadata": {},
   "outputs": [],
   "source": [
    "#Default and the duration\n",
    "mod_log = glm(formula = \"Default~age\", data = train, family = sm.families.Binomial())\n",
    "#family: for the response variable"
   ]
  },
  {
   "cell_type": "code",
   "execution_count": 54,
   "metadata": {},
   "outputs": [],
   "source": [
    "mod_fit = mod_log.fit()"
   ]
  },
  {
   "cell_type": "code",
   "execution_count": 55,
   "metadata": {
    "scrolled": true
   },
   "outputs": [
    {
     "data": {
      "text/html": [
       "<table class=\"simpletable\">\n",
       "<caption>Generalized Linear Model Regression Results</caption>\n",
       "<tr>\n",
       "  <th>Dep. Variable:</th>       <td>Default</td>     <th>  No. Observations:  </th>  <td>   700</td>  \n",
       "</tr>\n",
       "<tr>\n",
       "  <th>Model:</th>                 <td>GLM</td>       <th>  Df Residuals:      </th>  <td>   698</td>  \n",
       "</tr>\n",
       "<tr>\n",
       "  <th>Model Family:</th>       <td>Binomial</td>     <th>  Df Model:          </th>  <td>     1</td>  \n",
       "</tr>\n",
       "<tr>\n",
       "  <th>Link Function:</th>        <td>logit</td>      <th>  Scale:             </th> <td>  1.0000</td> \n",
       "</tr>\n",
       "<tr>\n",
       "  <th>Method:</th>               <td>IRLS</td>       <th>  Log-Likelihood:    </th> <td> -416.32</td> \n",
       "</tr>\n",
       "<tr>\n",
       "  <th>Date:</th>           <td>Sun, 05 Jul 2020</td> <th>  Deviance:          </th> <td>  832.64</td> \n",
       "</tr>\n",
       "<tr>\n",
       "  <th>Time:</th>               <td>22:31:02</td>     <th>  Pearson chi2:      </th>  <td>  701.</td>  \n",
       "</tr>\n",
       "<tr>\n",
       "  <th>No. Iterations:</th>         <td>4</td>        <th>  Covariance Type:   </th> <td>nonrobust</td>\n",
       "</tr>\n",
       "</table>\n",
       "<table class=\"simpletable\">\n",
       "<tr>\n",
       "      <td></td>         <th>coef</th>     <th>std err</th>      <th>z</th>      <th>P>|z|</th>  <th>[0.025</th>    <th>0.975]</th>  \n",
       "</tr>\n",
       "<tr>\n",
       "  <th>Intercept</th> <td>   -0.5955</td> <td>    0.146</td> <td>   -4.085</td> <td> 0.000</td> <td>   -0.881</td> <td>   -0.310</td>\n",
       "</tr>\n",
       "<tr>\n",
       "  <th>age</th>       <td>   -1.1045</td> <td>    0.435</td> <td>   -2.537</td> <td> 0.011</td> <td>   -1.958</td> <td>   -0.251</td>\n",
       "</tr>\n",
       "</table>"
      ],
      "text/plain": [
       "<class 'statsmodels.iolib.summary.Summary'>\n",
       "\"\"\"\n",
       "                 Generalized Linear Model Regression Results                  \n",
       "==============================================================================\n",
       "Dep. Variable:                Default   No. Observations:                  700\n",
       "Model:                            GLM   Df Residuals:                      698\n",
       "Model Family:                Binomial   Df Model:                            1\n",
       "Link Function:                  logit   Scale:                          1.0000\n",
       "Method:                          IRLS   Log-Likelihood:                -416.32\n",
       "Date:                Sun, 05 Jul 2020   Deviance:                       832.64\n",
       "Time:                        22:31:02   Pearson chi2:                     701.\n",
       "No. Iterations:                     4   Covariance Type:             nonrobust\n",
       "==============================================================================\n",
       "                 coef    std err          z      P>|z|      [0.025      0.975]\n",
       "------------------------------------------------------------------------------\n",
       "Intercept     -0.5955      0.146     -4.085      0.000      -0.881      -0.310\n",
       "age           -1.1045      0.435     -2.537      0.011      -1.958      -0.251\n",
       "==============================================================================\n",
       "\"\"\""
      ]
     },
     "execution_count": 55,
     "metadata": {},
     "output_type": "execute_result"
    }
   ],
   "source": [
    "mod_fit.summary()"
   ]
  },
  {
   "cell_type": "code",
   "execution_count": 56,
   "metadata": {},
   "outputs": [],
   "source": [
    "# log(p/(1-p)) = -.5 -1.1age"
   ]
  },
  {
   "cell_type": "code",
   "execution_count": 57,
   "metadata": {},
   "outputs": [
    {
     "data": {
      "text/plain": [
       "836.6392340783165"
      ]
     },
     "execution_count": 57,
     "metadata": {},
     "output_type": "execute_result"
    }
   ],
   "source": [
    "mod_fit.aic #akaike information criteria\n",
    "#lower the aic value the better the model\n",
    "#Deviance: lower deviance of the model, better it is "
   ]
  },
  {
   "cell_type": "code",
   "execution_count": 58,
   "metadata": {},
   "outputs": [
    {
     "data": {
      "text/plain": [
       "0    0.209935\n",
       "1    0.294908\n",
       "2    0.267032\n",
       "3    0.286772\n",
       "4    0.167778\n",
       "5    0.337507\n",
       "dtype: float64"
      ]
     },
     "execution_count": 58,
     "metadata": {},
     "output_type": "execute_result"
    }
   ],
   "source": [
    "predicted_prob = mod_fit.predict(train.age)\n",
    "predicted_prob[:6]"
   ]
  },
  {
   "cell_type": "code",
   "execution_count": 59,
   "metadata": {},
   "outputs": [
    {
     "data": {
      "text/plain": [
       "Series([], dtype: float64)"
      ]
     },
     "execution_count": 59,
     "metadata": {},
     "output_type": "execute_result"
    }
   ],
   "source": [
    "predicted_prob[(predicted_prob>=.5)]"
   ]
  },
  {
   "cell_type": "code",
   "execution_count": 161,
   "metadata": {},
   "outputs": [
    {
     "data": {
      "text/plain": [
       "\"\\n# plot the class predictions\\nimport matplotlib.pyplot as plt\\n%matplotlib inline\\nplt.figure(figsize=(12,6))\\nplt.scatter(train.age, train.Default)\\nplt.plot(train.age,predicted_prob, color='red')\\n\\nplt.xlabel('age')\\nplt.ylabel('default');\\n\""
      ]
     },
     "execution_count": 161,
     "metadata": {},
     "output_type": "execute_result"
    }
   ],
   "source": [
    "\"\"\"\n",
    "# plot the class predictions\n",
    "import matplotlib.pyplot as plt\n",
    "%matplotlib inline\n",
    "plt.figure(figsize=(12,6))\n",
    "plt.scatter(train.age, train.Default)\n",
    "plt.plot(train.age,predicted_prob, color='red')\n",
    "\n",
    "plt.xlabel('age')\n",
    "plt.ylabel('default');\n",
    "\"\"\""
   ]
  },
  {
   "cell_type": "markdown",
   "metadata": {},
   "source": [
    "### Muliple Logistic Regression Model"
   ]
  },
  {
   "cell_type": "code",
   "execution_count": 60,
   "metadata": {},
   "outputs": [
    {
     "data": {
      "text/plain": [
       "'duration+amount+installment+residence+age+cards+liable+checkingstatus1_A12+checkingstatus1_A13+checkingstatus1_A14+history_A31+history_A32+history_A33+history_A34+purpose_A41+purpose_A410+purpose_A42+purpose_A43+purpose_A44+purpose_A45+purpose_A46+purpose_A48+purpose_A49+savings_A62+savings_A63+savings_A64+savings_A65+employ_A72+employ_A73+employ_A74+employ_A75+status_A92+status_A93+status_A94+others_A102+others_A103+property_A122+property_A123+property_A124+otherplans_A142+otherplans_A143+housing_A152+housing_A153+job_A172+job_A173+job_A174+tele_A192+foreign_A202'"
      ]
     },
     "execution_count": 60,
     "metadata": {},
     "output_type": "execute_result"
    }
   ],
   "source": [
    "x= \"+\".join(train.columns[1:])\n",
    "x"
   ]
  },
  {
   "cell_type": "code",
   "execution_count": 63,
   "metadata": {},
   "outputs": [],
   "source": [
    "#Default and the duration\n",
    "mod = glm(formula = \"Default~\" + x, data = train, family = sm.families.Binomial()).fit()\n",
    "#family: for the response variable is binomial"
   ]
  },
  {
   "cell_type": "code",
   "execution_count": 64,
   "metadata": {},
   "outputs": [
    {
     "data": {
      "text/html": [
       "<table class=\"simpletable\">\n",
       "<caption>Generalized Linear Model Regression Results</caption>\n",
       "<tr>\n",
       "  <th>Dep. Variable:</th>       <td>Default</td>     <th>  No. Observations:  </th>  <td>   700</td>  \n",
       "</tr>\n",
       "<tr>\n",
       "  <th>Model:</th>                 <td>GLM</td>       <th>  Df Residuals:      </th>  <td>   651</td>  \n",
       "</tr>\n",
       "<tr>\n",
       "  <th>Model Family:</th>       <td>Binomial</td>     <th>  Df Model:          </th>  <td>    48</td>  \n",
       "</tr>\n",
       "<tr>\n",
       "  <th>Link Function:</th>        <td>logit</td>      <th>  Scale:             </th> <td>  1.0000</td> \n",
       "</tr>\n",
       "<tr>\n",
       "  <th>Method:</th>               <td>IRLS</td>       <th>  Log-Likelihood:    </th> <td> -299.95</td> \n",
       "</tr>\n",
       "<tr>\n",
       "  <th>Date:</th>           <td>Sun, 05 Jul 2020</td> <th>  Deviance:          </th> <td>  599.90</td> \n",
       "</tr>\n",
       "<tr>\n",
       "  <th>Time:</th>               <td>22:32:54</td>     <th>  Pearson chi2:      </th>  <td>  679.</td>  \n",
       "</tr>\n",
       "<tr>\n",
       "  <th>No. Iterations:</th>         <td>6</td>        <th>  Covariance Type:   </th> <td>nonrobust</td>\n",
       "</tr>\n",
       "</table>\n",
       "<table class=\"simpletable\">\n",
       "<tr>\n",
       "           <td></td>              <th>coef</th>     <th>std err</th>      <th>z</th>      <th>P>|z|</th>  <th>[0.025</th>    <th>0.975]</th>  \n",
       "</tr>\n",
       "<tr>\n",
       "  <th>Intercept</th>           <td>   -0.0951</td> <td>    1.331</td> <td>   -0.071</td> <td> 0.943</td> <td>   -2.704</td> <td>    2.513</td>\n",
       "</tr>\n",
       "<tr>\n",
       "  <th>duration</th>            <td>    1.3727</td> <td>    0.661</td> <td>    2.075</td> <td> 0.038</td> <td>    0.076</td> <td>    2.669</td>\n",
       "</tr>\n",
       "<tr>\n",
       "  <th>amount</th>              <td>    2.3507</td> <td>    1.052</td> <td>    2.235</td> <td> 0.025</td> <td>    0.289</td> <td>    4.412</td>\n",
       "</tr>\n",
       "<tr>\n",
       "  <th>installment</th>         <td>    0.9638</td> <td>    0.330</td> <td>    2.923</td> <td> 0.003</td> <td>    0.317</td> <td>    1.610</td>\n",
       "</tr>\n",
       "<tr>\n",
       "  <th>residence</th>           <td>    0.2543</td> <td>    0.323</td> <td>    0.787</td> <td> 0.431</td> <td>   -0.379</td> <td>    0.888</td>\n",
       "</tr>\n",
       "<tr>\n",
       "  <th>age</th>                 <td>   -0.8368</td> <td>    0.641</td> <td>   -1.305</td> <td> 0.192</td> <td>   -2.093</td> <td>    0.420</td>\n",
       "</tr>\n",
       "<tr>\n",
       "  <th>cards</th>               <td>   -0.0503</td> <td>    0.782</td> <td>   -0.064</td> <td> 0.949</td> <td>   -1.583</td> <td>    1.482</td>\n",
       "</tr>\n",
       "<tr>\n",
       "  <th>liable</th>              <td>    0.5392</td> <td>    0.297</td> <td>    1.817</td> <td> 0.069</td> <td>   -0.042</td> <td>    1.121</td>\n",
       "</tr>\n",
       "<tr>\n",
       "  <th>checkingstatus1_A12</th> <td>   -0.2249</td> <td>    0.269</td> <td>   -0.837</td> <td> 0.402</td> <td>   -0.751</td> <td>    0.302</td>\n",
       "</tr>\n",
       "<tr>\n",
       "  <th>checkingstatus1_A13</th> <td>   -1.7169</td> <td>    0.555</td> <td>   -3.095</td> <td> 0.002</td> <td>   -2.804</td> <td>   -0.630</td>\n",
       "</tr>\n",
       "<tr>\n",
       "  <th>checkingstatus1_A14</th> <td>   -1.5508</td> <td>    0.277</td> <td>   -5.594</td> <td> 0.000</td> <td>   -2.094</td> <td>   -1.007</td>\n",
       "</tr>\n",
       "<tr>\n",
       "  <th>history_A31</th>         <td>   -0.0076</td> <td>    0.691</td> <td>   -0.011</td> <td> 0.991</td> <td>   -1.362</td> <td>    1.347</td>\n",
       "</tr>\n",
       "<tr>\n",
       "  <th>history_A32</th>         <td>   -0.4381</td> <td>    0.548</td> <td>   -0.800</td> <td> 0.424</td> <td>   -1.512</td> <td>    0.635</td>\n",
       "</tr>\n",
       "<tr>\n",
       "  <th>history_A33</th>         <td>   -0.6814</td> <td>    0.592</td> <td>   -1.151</td> <td> 0.250</td> <td>   -1.842</td> <td>    0.479</td>\n",
       "</tr>\n",
       "<tr>\n",
       "  <th>history_A34</th>         <td>   -1.1647</td> <td>    0.550</td> <td>   -2.116</td> <td> 0.034</td> <td>   -2.243</td> <td>   -0.086</td>\n",
       "</tr>\n",
       "<tr>\n",
       "  <th>purpose_A41</th>         <td>   -2.2177</td> <td>    0.521</td> <td>   -4.253</td> <td> 0.000</td> <td>   -3.240</td> <td>   -1.196</td>\n",
       "</tr>\n",
       "<tr>\n",
       "  <th>purpose_A410</th>        <td>   -1.2854</td> <td>    0.903</td> <td>   -1.424</td> <td> 0.155</td> <td>   -3.055</td> <td>    0.484</td>\n",
       "</tr>\n",
       "<tr>\n",
       "  <th>purpose_A42</th>         <td>   -0.7687</td> <td>    0.317</td> <td>   -2.428</td> <td> 0.015</td> <td>   -1.389</td> <td>   -0.148</td>\n",
       "</tr>\n",
       "<tr>\n",
       "  <th>purpose_A43</th>         <td>   -0.9039</td> <td>    0.308</td> <td>   -2.939</td> <td> 0.003</td> <td>   -1.507</td> <td>   -0.301</td>\n",
       "</tr>\n",
       "<tr>\n",
       "  <th>purpose_A44</th>         <td>   -0.2707</td> <td>    0.791</td> <td>   -0.342</td> <td> 0.732</td> <td>   -1.822</td> <td>    1.281</td>\n",
       "</tr>\n",
       "<tr>\n",
       "  <th>purpose_A45</th>         <td>    0.3374</td> <td>    0.667</td> <td>    0.506</td> <td> 0.613</td> <td>   -0.969</td> <td>    1.644</td>\n",
       "</tr>\n",
       "<tr>\n",
       "  <th>purpose_A46</th>         <td>   -0.2229</td> <td>    0.478</td> <td>   -0.466</td> <td> 0.641</td> <td>   -1.160</td> <td>    0.714</td>\n",
       "</tr>\n",
       "<tr>\n",
       "  <th>purpose_A48</th>         <td>   -1.1666</td> <td>    1.250</td> <td>   -0.933</td> <td> 0.351</td> <td>   -3.617</td> <td>    1.284</td>\n",
       "</tr>\n",
       "<tr>\n",
       "  <th>purpose_A49</th>         <td>   -0.7676</td> <td>    0.429</td> <td>   -1.789</td> <td> 0.074</td> <td>   -1.609</td> <td>    0.073</td>\n",
       "</tr>\n",
       "<tr>\n",
       "  <th>savings_A62</th>         <td>   -0.3097</td> <td>    0.367</td> <td>   -0.844</td> <td> 0.399</td> <td>   -1.029</td> <td>    0.410</td>\n",
       "</tr>\n",
       "<tr>\n",
       "  <th>savings_A63</th>         <td>   -0.4363</td> <td>    0.497</td> <td>   -0.878</td> <td> 0.380</td> <td>   -1.410</td> <td>    0.538</td>\n",
       "</tr>\n",
       "<tr>\n",
       "  <th>savings_A64</th>         <td>   -1.0452</td> <td>    0.602</td> <td>   -1.736</td> <td> 0.083</td> <td>   -2.225</td> <td>    0.135</td>\n",
       "</tr>\n",
       "<tr>\n",
       "  <th>savings_A65</th>         <td>   -1.0650</td> <td>    0.329</td> <td>   -3.236</td> <td> 0.001</td> <td>   -1.710</td> <td>   -0.420</td>\n",
       "</tr>\n",
       "<tr>\n",
       "  <th>employ_A72</th>          <td>   -0.2766</td> <td>    0.531</td> <td>   -0.521</td> <td> 0.602</td> <td>   -1.317</td> <td>    0.763</td>\n",
       "</tr>\n",
       "<tr>\n",
       "  <th>employ_A73</th>          <td>   -0.1578</td> <td>    0.499</td> <td>   -0.316</td> <td> 0.752</td> <td>   -1.136</td> <td>    0.821</td>\n",
       "</tr>\n",
       "<tr>\n",
       "  <th>employ_A74</th>          <td>   -1.2060</td> <td>    0.553</td> <td>   -2.182</td> <td> 0.029</td> <td>   -2.289</td> <td>   -0.123</td>\n",
       "</tr>\n",
       "<tr>\n",
       "  <th>employ_A75</th>          <td>   -0.3927</td> <td>    0.509</td> <td>   -0.771</td> <td> 0.440</td> <td>   -1.390</td> <td>    0.605</td>\n",
       "</tr>\n",
       "<tr>\n",
       "  <th>status_A92</th>          <td>   -0.2412</td> <td>    0.474</td> <td>   -0.509</td> <td> 0.611</td> <td>   -1.170</td> <td>    0.687</td>\n",
       "</tr>\n",
       "<tr>\n",
       "  <th>status_A93</th>          <td>   -0.9336</td> <td>    0.467</td> <td>   -1.998</td> <td> 0.046</td> <td>   -1.849</td> <td>   -0.018</td>\n",
       "</tr>\n",
       "<tr>\n",
       "  <th>status_A94</th>          <td>   -0.3405</td> <td>    0.560</td> <td>   -0.608</td> <td> 0.543</td> <td>   -1.438</td> <td>    0.757</td>\n",
       "</tr>\n",
       "<tr>\n",
       "  <th>others_A102</th>         <td>    0.6217</td> <td>    0.525</td> <td>    1.185</td> <td> 0.236</td> <td>   -0.407</td> <td>    1.650</td>\n",
       "</tr>\n",
       "<tr>\n",
       "  <th>others_A103</th>         <td>   -0.8153</td> <td>    0.525</td> <td>   -1.552</td> <td> 0.121</td> <td>   -1.845</td> <td>    0.215</td>\n",
       "</tr>\n",
       "<tr>\n",
       "  <th>property_A122</th>       <td>    0.6920</td> <td>    0.311</td> <td>    2.225</td> <td> 0.026</td> <td>    0.082</td> <td>    1.302</td>\n",
       "</tr>\n",
       "<tr>\n",
       "  <th>property_A123</th>       <td>    0.5989</td> <td>    0.298</td> <td>    2.009</td> <td> 0.044</td> <td>    0.015</td> <td>    1.183</td>\n",
       "</tr>\n",
       "<tr>\n",
       "  <th>property_A124</th>       <td>    1.2677</td> <td>    0.530</td> <td>    2.391</td> <td> 0.017</td> <td>    0.229</td> <td>    2.307</td>\n",
       "</tr>\n",
       "<tr>\n",
       "  <th>otherplans_A142</th>     <td>   -0.4158</td> <td>    0.527</td> <td>   -0.790</td> <td> 0.430</td> <td>   -1.448</td> <td>    0.616</td>\n",
       "</tr>\n",
       "<tr>\n",
       "  <th>otherplans_A143</th>     <td>   -0.6754</td> <td>    0.291</td> <td>   -2.322</td> <td> 0.020</td> <td>   -1.245</td> <td>   -0.105</td>\n",
       "</tr>\n",
       "<tr>\n",
       "  <th>housing_A152</th>        <td>   -0.5789</td> <td>    0.289</td> <td>   -2.005</td> <td> 0.045</td> <td>   -1.145</td> <td>   -0.013</td>\n",
       "</tr>\n",
       "<tr>\n",
       "  <th>housing_A153</th>        <td>   -0.7871</td> <td>    0.579</td> <td>   -1.360</td> <td> 0.174</td> <td>   -1.922</td> <td>    0.348</td>\n",
       "</tr>\n",
       "<tr>\n",
       "  <th>job_A172</th>            <td>    1.6509</td> <td>    1.013</td> <td>    1.629</td> <td> 0.103</td> <td>   -0.335</td> <td>    3.637</td>\n",
       "</tr>\n",
       "<tr>\n",
       "  <th>job_A173</th>            <td>    1.4738</td> <td>    0.989</td> <td>    1.491</td> <td> 0.136</td> <td>   -0.464</td> <td>    3.411</td>\n",
       "</tr>\n",
       "<tr>\n",
       "  <th>job_A174</th>            <td>    1.6927</td> <td>    1.006</td> <td>    1.682</td> <td> 0.092</td> <td>   -0.279</td> <td>    3.664</td>\n",
       "</tr>\n",
       "<tr>\n",
       "  <th>tele_A192</th>           <td>   -0.4698</td> <td>    0.251</td> <td>   -1.869</td> <td> 0.062</td> <td>   -0.962</td> <td>    0.023</td>\n",
       "</tr>\n",
       "<tr>\n",
       "  <th>foreign_A202</th>        <td>   -1.2033</td> <td>    0.691</td> <td>   -1.742</td> <td> 0.082</td> <td>   -2.558</td> <td>    0.151</td>\n",
       "</tr>\n",
       "</table>"
      ],
      "text/plain": [
       "<class 'statsmodels.iolib.summary.Summary'>\n",
       "\"\"\"\n",
       "                 Generalized Linear Model Regression Results                  \n",
       "==============================================================================\n",
       "Dep. Variable:                Default   No. Observations:                  700\n",
       "Model:                            GLM   Df Residuals:                      651\n",
       "Model Family:                Binomial   Df Model:                           48\n",
       "Link Function:                  logit   Scale:                          1.0000\n",
       "Method:                          IRLS   Log-Likelihood:                -299.95\n",
       "Date:                Sun, 05 Jul 2020   Deviance:                       599.90\n",
       "Time:                        22:32:54   Pearson chi2:                     679.\n",
       "No. Iterations:                     6   Covariance Type:             nonrobust\n",
       "=======================================================================================\n",
       "                          coef    std err          z      P>|z|      [0.025      0.975]\n",
       "---------------------------------------------------------------------------------------\n",
       "Intercept              -0.0951      1.331     -0.071      0.943      -2.704       2.513\n",
       "duration                1.3727      0.661      2.075      0.038       0.076       2.669\n",
       "amount                  2.3507      1.052      2.235      0.025       0.289       4.412\n",
       "installment             0.9638      0.330      2.923      0.003       0.317       1.610\n",
       "residence               0.2543      0.323      0.787      0.431      -0.379       0.888\n",
       "age                    -0.8368      0.641     -1.305      0.192      -2.093       0.420\n",
       "cards                  -0.0503      0.782     -0.064      0.949      -1.583       1.482\n",
       "liable                  0.5392      0.297      1.817      0.069      -0.042       1.121\n",
       "checkingstatus1_A12    -0.2249      0.269     -0.837      0.402      -0.751       0.302\n",
       "checkingstatus1_A13    -1.7169      0.555     -3.095      0.002      -2.804      -0.630\n",
       "checkingstatus1_A14    -1.5508      0.277     -5.594      0.000      -2.094      -1.007\n",
       "history_A31            -0.0076      0.691     -0.011      0.991      -1.362       1.347\n",
       "history_A32            -0.4381      0.548     -0.800      0.424      -1.512       0.635\n",
       "history_A33            -0.6814      0.592     -1.151      0.250      -1.842       0.479\n",
       "history_A34            -1.1647      0.550     -2.116      0.034      -2.243      -0.086\n",
       "purpose_A41            -2.2177      0.521     -4.253      0.000      -3.240      -1.196\n",
       "purpose_A410           -1.2854      0.903     -1.424      0.155      -3.055       0.484\n",
       "purpose_A42            -0.7687      0.317     -2.428      0.015      -1.389      -0.148\n",
       "purpose_A43            -0.9039      0.308     -2.939      0.003      -1.507      -0.301\n",
       "purpose_A44            -0.2707      0.791     -0.342      0.732      -1.822       1.281\n",
       "purpose_A45             0.3374      0.667      0.506      0.613      -0.969       1.644\n",
       "purpose_A46            -0.2229      0.478     -0.466      0.641      -1.160       0.714\n",
       "purpose_A48            -1.1666      1.250     -0.933      0.351      -3.617       1.284\n",
       "purpose_A49            -0.7676      0.429     -1.789      0.074      -1.609       0.073\n",
       "savings_A62            -0.3097      0.367     -0.844      0.399      -1.029       0.410\n",
       "savings_A63            -0.4363      0.497     -0.878      0.380      -1.410       0.538\n",
       "savings_A64            -1.0452      0.602     -1.736      0.083      -2.225       0.135\n",
       "savings_A65            -1.0650      0.329     -3.236      0.001      -1.710      -0.420\n",
       "employ_A72             -0.2766      0.531     -0.521      0.602      -1.317       0.763\n",
       "employ_A73             -0.1578      0.499     -0.316      0.752      -1.136       0.821\n",
       "employ_A74             -1.2060      0.553     -2.182      0.029      -2.289      -0.123\n",
       "employ_A75             -0.3927      0.509     -0.771      0.440      -1.390       0.605\n",
       "status_A92             -0.2412      0.474     -0.509      0.611      -1.170       0.687\n",
       "status_A93             -0.9336      0.467     -1.998      0.046      -1.849      -0.018\n",
       "status_A94             -0.3405      0.560     -0.608      0.543      -1.438       0.757\n",
       "others_A102             0.6217      0.525      1.185      0.236      -0.407       1.650\n",
       "others_A103            -0.8153      0.525     -1.552      0.121      -1.845       0.215\n",
       "property_A122           0.6920      0.311      2.225      0.026       0.082       1.302\n",
       "property_A123           0.5989      0.298      2.009      0.044       0.015       1.183\n",
       "property_A124           1.2677      0.530      2.391      0.017       0.229       2.307\n",
       "otherplans_A142        -0.4158      0.527     -0.790      0.430      -1.448       0.616\n",
       "otherplans_A143        -0.6754      0.291     -2.322      0.020      -1.245      -0.105\n",
       "housing_A152           -0.5789      0.289     -2.005      0.045      -1.145      -0.013\n",
       "housing_A153           -0.7871      0.579     -1.360      0.174      -1.922       0.348\n",
       "job_A172                1.6509      1.013      1.629      0.103      -0.335       3.637\n",
       "job_A173                1.4738      0.989      1.491      0.136      -0.464       3.411\n",
       "job_A174                1.6927      1.006      1.682      0.092      -0.279       3.664\n",
       "tele_A192              -0.4698      0.251     -1.869      0.062      -0.962       0.023\n",
       "foreign_A202           -1.2033      0.691     -1.742      0.082      -2.558       0.151\n",
       "=======================================================================================\n",
       "\"\"\""
      ]
     },
     "execution_count": 64,
     "metadata": {},
     "output_type": "execute_result"
    }
   ],
   "source": [
    "mod.summary()"
   ]
  },
  {
   "cell_type": "code",
   "execution_count": 165,
   "metadata": {},
   "outputs": [],
   "source": [
    "#reject the variables which are insignificant (i.e have p values > 5%)\n",
    "#find out the correlations between the continuous variables and make sure there is no redundant infomation"
   ]
  },
  {
   "cell_type": "code",
   "execution_count": 69,
   "metadata": {},
   "outputs": [
    {
     "data": {
      "text/plain": [
       "697.9019679119301"
      ]
     },
     "execution_count": 69,
     "metadata": {},
     "output_type": "execute_result"
    }
   ],
   "source": [
    "mod.aic"
   ]
  },
  {
   "cell_type": "code",
   "execution_count": 70,
   "metadata": {},
   "outputs": [
    {
     "data": {
      "text/plain": [
       "duration               3.794337e-02\n",
       "amount                 2.540921e-02\n",
       "installment            3.469611e-03\n",
       "checkingstatus1_A13    1.966438e-03\n",
       "checkingstatus1_A14    2.213222e-08\n",
       "history_A34            3.434632e-02\n",
       "purpose_A41            2.108879e-05\n",
       "purpose_A42            1.518829e-02\n",
       "purpose_A43            3.292617e-03\n",
       "savings_A65            1.211893e-03\n",
       "employ_A74             2.913604e-02\n",
       "status_A93             4.572144e-02\n",
       "property_A122          2.610691e-02\n",
       "property_A123          4.449354e-02\n",
       "property_A124          1.680137e-02\n",
       "otherplans_A143        2.023038e-02\n",
       "housing_A152           4.498791e-02\n",
       "dtype: float64"
      ]
     },
     "execution_count": 70,
     "metadata": {},
     "output_type": "execute_result"
    }
   ],
   "source": [
    "selected_vars = mod.pvalues[mod.pvalues<.05]\n",
    "selected_vars"
   ]
  },
  {
   "cell_type": "code",
   "execution_count": 71,
   "metadata": {},
   "outputs": [
    {
     "data": {
      "text/plain": [
       "'duration+amount+installment+checkingstatus1_A13+checkingstatus1_A14+history_A34+purpose_A41+purpose_A42+purpose_A43+savings_A65+employ_A74+status_A93+property_A122+property_A123+property_A124+otherplans_A143+housing_A152'"
      ]
     },
     "execution_count": 71,
     "metadata": {},
     "output_type": "execute_result"
    }
   ],
   "source": [
    "features = \"+\".join(selected_vars.index)\n",
    "features"
   ]
  },
  {
   "cell_type": "code",
   "execution_count": 72,
   "metadata": {},
   "outputs": [],
   "source": [
    "#Default \n",
    "mod2 = glm(formula = \"Default~\" + features, data = train, family = sm.families.Binomial()).fit()\n",
    "#family: for the response variable is binomial"
   ]
  },
  {
   "cell_type": "code",
   "execution_count": 73,
   "metadata": {},
   "outputs": [
    {
     "data": {
      "text/plain": [
       "675.544550156749"
      ]
     },
     "execution_count": 73,
     "metadata": {},
     "output_type": "execute_result"
    }
   ],
   "source": [
    "mod2.aic"
   ]
  },
  {
   "cell_type": "code",
   "execution_count": 74,
   "metadata": {},
   "outputs": [
    {
     "data": {
      "text/plain": [
       "Intercept          0.696540\n",
       "amount             0.052625\n",
       "purpose_A42        0.138705\n",
       "otherplans_A143    0.056489\n",
       "dtype: float64"
      ]
     },
     "execution_count": 74,
     "metadata": {},
     "output_type": "execute_result"
    }
   ],
   "source": [
    "mod2.pvalues[mod2.pvalues>.05]"
   ]
  },
  {
   "cell_type": "code",
   "execution_count": 75,
   "metadata": {},
   "outputs": [],
   "source": [
    "#use the same logic to find out the significant variables, and check if you exclude these variable the aic reduces further or not.\n",
    "#Lower the aic value better the model"
   ]
  },
  {
   "cell_type": "code",
   "execution_count": 76,
   "metadata": {},
   "outputs": [],
   "source": [
    "#taking significance level = 10%\n",
    "#we will take out out only purpose_A42"
   ]
  },
  {
   "cell_type": "code",
   "execution_count": 77,
   "metadata": {},
   "outputs": [
    {
     "data": {
      "text/plain": [
       "'duration+amount+installment+checkingstatus1_A13+checkingstatus1_A14+history_A34+purpose_A41+purpose_A43+savings_A65+employ_A74+status_A93+property_A122+property_A123+property_A124+otherplans_A143+housing_A152'"
      ]
     },
     "execution_count": 77,
     "metadata": {},
     "output_type": "execute_result"
    }
   ],
   "source": [
    "newfeatures = features.replace(\"+purpose_A42\",\"\")\n",
    "newfeatures"
   ]
  },
  {
   "cell_type": "code",
   "execution_count": 78,
   "metadata": {},
   "outputs": [],
   "source": [
    "mod3 = glm(formula = \"Default~\" + newfeatures, data = train, family = sm.families.Binomial()).fit()"
   ]
  },
  {
   "cell_type": "code",
   "execution_count": 79,
   "metadata": {},
   "outputs": [
    {
     "data": {
      "text/plain": [
       "675.7657880174029"
      ]
     },
     "execution_count": 79,
     "metadata": {},
     "output_type": "execute_result"
    }
   ],
   "source": [
    "mod3.aic"
   ]
  },
  {
   "cell_type": "code",
   "execution_count": 176,
   "metadata": {},
   "outputs": [],
   "source": [
    "#Check intercorrelations between the continuous X vars"
   ]
  },
  {
   "cell_type": "code",
   "execution_count": 177,
   "metadata": {},
   "outputs": [
    {
     "name": "stdout",
     "output_type": "stream",
     "text": [
      "['duration', 'amount', 'installment', 'checkingstatus1_A13', 'checkingstatus1_A14', 'history_A34', 'purpose_A41', 'purpose_A43', 'savings_A65', 'employ_A74', 'status_A93', 'property_A122', 'property_A123', 'property_A124', 'otherplans_A143', 'housing_A152']\n"
     ]
    }
   ],
   "source": [
    "print(newfeatures.split(\"+\"))"
   ]
  },
  {
   "cell_type": "code",
   "execution_count": 178,
   "metadata": {},
   "outputs": [
    {
     "data": {
      "text/html": [
       "<div>\n",
       "<style scoped>\n",
       "    .dataframe tbody tr th:only-of-type {\n",
       "        vertical-align: middle;\n",
       "    }\n",
       "\n",
       "    .dataframe tbody tr th {\n",
       "        vertical-align: top;\n",
       "    }\n",
       "\n",
       "    .dataframe thead th {\n",
       "        text-align: right;\n",
       "    }\n",
       "</style>\n",
       "<table border=\"1\" class=\"dataframe\">\n",
       "  <thead>\n",
       "    <tr style=\"text-align: right;\">\n",
       "      <th></th>\n",
       "      <th>duration</th>\n",
       "      <th>amount</th>\n",
       "      <th>installment</th>\n",
       "      <th>checkingstatus1_A13</th>\n",
       "      <th>checkingstatus1_A14</th>\n",
       "      <th>history_A34</th>\n",
       "      <th>purpose_A41</th>\n",
       "      <th>purpose_A43</th>\n",
       "      <th>savings_A65</th>\n",
       "      <th>employ_A74</th>\n",
       "      <th>status_A93</th>\n",
       "      <th>property_A122</th>\n",
       "      <th>property_A123</th>\n",
       "      <th>property_A124</th>\n",
       "      <th>otherplans_A143</th>\n",
       "      <th>housing_A152</th>\n",
       "    </tr>\n",
       "  </thead>\n",
       "  <tbody>\n",
       "    <tr>\n",
       "      <th>0</th>\n",
       "      <td>0.142857</td>\n",
       "      <td>0.020249</td>\n",
       "      <td>1.0</td>\n",
       "      <td>0.0</td>\n",
       "      <td>1.0</td>\n",
       "      <td>1.0</td>\n",
       "      <td>0.0</td>\n",
       "      <td>1.0</td>\n",
       "      <td>0.0</td>\n",
       "      <td>0.0</td>\n",
       "      <td>1.0</td>\n",
       "      <td>0.0</td>\n",
       "      <td>0.0</td>\n",
       "      <td>0.0</td>\n",
       "      <td>1.0</td>\n",
       "      <td>1.0</td>\n",
       "    </tr>\n",
       "    <tr>\n",
       "      <th>1</th>\n",
       "      <td>0.035714</td>\n",
       "      <td>0.071146</td>\n",
       "      <td>1.0</td>\n",
       "      <td>0.0</td>\n",
       "      <td>1.0</td>\n",
       "      <td>0.0</td>\n",
       "      <td>0.0</td>\n",
       "      <td>0.0</td>\n",
       "      <td>0.0</td>\n",
       "      <td>0.0</td>\n",
       "      <td>0.0</td>\n",
       "      <td>0.0</td>\n",
       "      <td>0.0</td>\n",
       "      <td>0.0</td>\n",
       "      <td>1.0</td>\n",
       "      <td>1.0</td>\n",
       "    </tr>\n",
       "    <tr>\n",
       "      <th>2</th>\n",
       "      <td>0.142857</td>\n",
       "      <td>0.024816</td>\n",
       "      <td>1.0</td>\n",
       "      <td>0.0</td>\n",
       "      <td>0.0</td>\n",
       "      <td>0.0</td>\n",
       "      <td>0.0</td>\n",
       "      <td>1.0</td>\n",
       "      <td>0.0</td>\n",
       "      <td>0.0</td>\n",
       "      <td>0.0</td>\n",
       "      <td>0.0</td>\n",
       "      <td>0.0</td>\n",
       "      <td>0.0</td>\n",
       "      <td>1.0</td>\n",
       "      <td>1.0</td>\n",
       "    </tr>\n",
       "  </tbody>\n",
       "</table>\n",
       "</div>"
      ],
      "text/plain": [
       "   duration    amount  installment  checkingstatus1_A13  checkingstatus1_A14  \\\n",
       "0  0.142857  0.020249          1.0                  0.0                  1.0   \n",
       "1  0.035714  0.071146          1.0                  0.0                  1.0   \n",
       "2  0.142857  0.024816          1.0                  0.0                  0.0   \n",
       "\n",
       "   history_A34  purpose_A41  purpose_A43  savings_A65  employ_A74  status_A93  \\\n",
       "0          1.0          0.0          1.0          0.0         0.0         1.0   \n",
       "1          0.0          0.0          0.0          0.0         0.0         0.0   \n",
       "2          0.0          0.0          1.0          0.0         0.0         0.0   \n",
       "\n",
       "   property_A122  property_A123  property_A124  otherplans_A143  housing_A152  \n",
       "0            0.0            0.0            0.0              1.0           1.0  \n",
       "1            0.0            0.0            0.0              1.0           1.0  \n",
       "2            0.0            0.0            0.0              1.0           1.0  "
      ]
     },
     "execution_count": 178,
     "metadata": {},
     "output_type": "execute_result"
    }
   ],
   "source": [
    "train[newfeatures.split(\"+\")].head(3)"
   ]
  },
  {
   "cell_type": "code",
   "execution_count": 179,
   "metadata": {},
   "outputs": [
    {
     "data": {
      "text/html": [
       "<div>\n",
       "<style scoped>\n",
       "    .dataframe tbody tr th:only-of-type {\n",
       "        vertical-align: middle;\n",
       "    }\n",
       "\n",
       "    .dataframe tbody tr th {\n",
       "        vertical-align: top;\n",
       "    }\n",
       "\n",
       "    .dataframe thead th {\n",
       "        text-align: right;\n",
       "    }\n",
       "</style>\n",
       "<table border=\"1\" class=\"dataframe\">\n",
       "  <thead>\n",
       "    <tr style=\"text-align: right;\">\n",
       "      <th></th>\n",
       "      <th>duration</th>\n",
       "      <th>amount</th>\n",
       "    </tr>\n",
       "  </thead>\n",
       "  <tbody>\n",
       "    <tr>\n",
       "      <th>duration</th>\n",
       "      <td>1.000000</td>\n",
       "      <td>0.614011</td>\n",
       "    </tr>\n",
       "    <tr>\n",
       "      <th>amount</th>\n",
       "      <td>0.614011</td>\n",
       "      <td>1.000000</td>\n",
       "    </tr>\n",
       "  </tbody>\n",
       "</table>\n",
       "</div>"
      ],
      "text/plain": [
       "          duration    amount\n",
       "duration  1.000000  0.614011\n",
       "amount    0.614011  1.000000"
      ]
     },
     "execution_count": 179,
     "metadata": {},
     "output_type": "execute_result"
    }
   ],
   "source": [
    "train[[\"duration\", \"amount\"]].corr() #medium correlation. We'll keep both the features"
   ]
  },
  {
   "cell_type": "code",
   "execution_count": 218,
   "metadata": {},
   "outputs": [
    {
     "data": {
      "text/plain": [
       "Intercept             -0.164551\n",
       "duration               1.222991\n",
       "amount                 1.783780\n",
       "installment            0.831477\n",
       "checkingstatus1_A13   -1.711778\n",
       "checkingstatus1_A14   -1.478716\n",
       "history_A34           -0.805535\n",
       "purpose_A41           -1.937345\n",
       "purpose_A42           -0.383577\n",
       "purpose_A43           -0.702049\n",
       "savings_A65           -1.035325\n",
       "employ_A74            -0.878235\n",
       "status_A93            -0.609325\n",
       "property_A122          0.595915\n",
       "property_A123          0.648749\n",
       "property_A124          0.857731\n",
       "otherplans_A143       -0.446467\n",
       "housing_A152          -0.549051\n",
       "dtype: float64"
      ]
     },
     "execution_count": 218,
     "metadata": {},
     "output_type": "execute_result"
    }
   ],
   "source": [
    "mod2.params"
   ]
  },
  {
   "cell_type": "code",
   "execution_count": 219,
   "metadata": {},
   "outputs": [],
   "source": [
    "#interpretation of logistic regression model. \n",
    "#every time duration increases by 1 unit, the odd ratio will increase - to a multiplier of e pow (.26)\n",
    "#every time duration decreases by 1 unit, odds ratio will get divided y e pow(.26)"
   ]
  },
  {
   "cell_type": "code",
   "execution_count": 182,
   "metadata": {},
   "outputs": [
    {
     "data": {
      "text/plain": [
       "0    0.083160\n",
       "1    0.049147\n",
       "2    0.122563\n",
       "dtype: float64"
      ]
     },
     "execution_count": 182,
     "metadata": {},
     "output_type": "execute_result"
    }
   ],
   "source": [
    "ypred = mod2.predict(X_test)\n",
    "ypred[:3]"
   ]
  },
  {
   "cell_type": "code",
   "execution_count": 220,
   "metadata": {},
   "outputs": [],
   "source": [
    "y_class = []\n",
    "threshold = .5\n",
    "for i in ypred:\n",
    "    if i<threshold:\n",
    "        y_class.append(0)\n",
    "    else:\n",
    "        y_class.append(1)"
   ]
  },
  {
   "cell_type": "code",
   "execution_count": 221,
   "metadata": {
    "scrolled": true
   },
   "outputs": [
    {
     "data": {
      "text/html": [
       "<div>\n",
       "<style scoped>\n",
       "    .dataframe tbody tr th:only-of-type {\n",
       "        vertical-align: middle;\n",
       "    }\n",
       "\n",
       "    .dataframe tbody tr th {\n",
       "        vertical-align: top;\n",
       "    }\n",
       "\n",
       "    .dataframe thead th {\n",
       "        text-align: right;\n",
       "    }\n",
       "</style>\n",
       "<table border=\"1\" class=\"dataframe\">\n",
       "  <thead>\n",
       "    <tr style=\"text-align: right;\">\n",
       "      <th></th>\n",
       "      <th>Default</th>\n",
       "    </tr>\n",
       "  </thead>\n",
       "  <tbody>\n",
       "    <tr>\n",
       "      <th>0</th>\n",
       "      <td>1</td>\n",
       "    </tr>\n",
       "    <tr>\n",
       "      <th>1</th>\n",
       "      <td>0</td>\n",
       "    </tr>\n",
       "    <tr>\n",
       "      <th>2</th>\n",
       "      <td>1</td>\n",
       "    </tr>\n",
       "  </tbody>\n",
       "</table>\n",
       "</div>"
      ],
      "text/plain": [
       "   Default\n",
       "0        1\n",
       "1        0\n",
       "2        1"
      ]
     },
     "execution_count": 221,
     "metadata": {},
     "output_type": "execute_result"
    }
   ],
   "source": [
    "y_test.head(3)"
   ]
  },
  {
   "cell_type": "code",
   "execution_count": 185,
   "metadata": {},
   "outputs": [],
   "source": [
    "y_class = pd.Series(y_class)"
   ]
  },
  {
   "cell_type": "code",
   "execution_count": 186,
   "metadata": {},
   "outputs": [
    {
     "data": {
      "text/html": [
       "<div>\n",
       "<style scoped>\n",
       "    .dataframe tbody tr th:only-of-type {\n",
       "        vertical-align: middle;\n",
       "    }\n",
       "\n",
       "    .dataframe tbody tr th {\n",
       "        vertical-align: top;\n",
       "    }\n",
       "\n",
       "    .dataframe thead th {\n",
       "        text-align: right;\n",
       "    }\n",
       "</style>\n",
       "<table border=\"1\" class=\"dataframe\">\n",
       "  <thead>\n",
       "    <tr style=\"text-align: right;\">\n",
       "      <th></th>\n",
       "      <th>Actual</th>\n",
       "      <th>Predicted</th>\n",
       "    </tr>\n",
       "  </thead>\n",
       "  <tbody>\n",
       "    <tr>\n",
       "      <th>0</th>\n",
       "      <td>1</td>\n",
       "      <td>0</td>\n",
       "    </tr>\n",
       "    <tr>\n",
       "      <th>1</th>\n",
       "      <td>0</td>\n",
       "      <td>0</td>\n",
       "    </tr>\n",
       "    <tr>\n",
       "      <th>2</th>\n",
       "      <td>1</td>\n",
       "      <td>0</td>\n",
       "    </tr>\n",
       "    <tr>\n",
       "      <th>3</th>\n",
       "      <td>1</td>\n",
       "      <td>1</td>\n",
       "    </tr>\n",
       "  </tbody>\n",
       "</table>\n",
       "</div>"
      ],
      "text/plain": [
       "   Actual  Predicted\n",
       "0       1          0\n",
       "1       0          0\n",
       "2       1          0\n",
       "3       1          1"
      ]
     },
     "execution_count": 186,
     "metadata": {},
     "output_type": "execute_result"
    }
   ],
   "source": [
    "df = pd.DataFrame({\"Actual\": y_test.Default, \"Predicted\": y_class})\n",
    "df.head(4)"
   ]
  },
  {
   "cell_type": "code",
   "execution_count": 187,
   "metadata": {
    "scrolled": true
   },
   "outputs": [],
   "source": [
    "#to understand the frequencies of predicted 0, actual 0; predicted 1 actual 1 ; predicted 0 actual 1 and predicted 1 actual 0\n",
    "table = pd.DataFrame(pd.crosstab(df.Actual, df.Predicted))"
   ]
  },
  {
   "cell_type": "code",
   "execution_count": 188,
   "metadata": {},
   "outputs": [
    {
     "data": {
      "text/html": [
       "<div>\n",
       "<style scoped>\n",
       "    .dataframe tbody tr th:only-of-type {\n",
       "        vertical-align: middle;\n",
       "    }\n",
       "\n",
       "    .dataframe tbody tr th {\n",
       "        vertical-align: top;\n",
       "    }\n",
       "\n",
       "    .dataframe thead th {\n",
       "        text-align: right;\n",
       "    }\n",
       "</style>\n",
       "<table border=\"1\" class=\"dataframe\">\n",
       "  <thead>\n",
       "    <tr style=\"text-align: right;\">\n",
       "      <th>Predicted</th>\n",
       "      <th>0</th>\n",
       "      <th>1</th>\n",
       "    </tr>\n",
       "    <tr>\n",
       "      <th>Actual</th>\n",
       "      <th></th>\n",
       "      <th></th>\n",
       "    </tr>\n",
       "  </thead>\n",
       "  <tbody>\n",
       "    <tr>\n",
       "      <th>0</th>\n",
       "      <td>173</td>\n",
       "      <td>28</td>\n",
       "    </tr>\n",
       "    <tr>\n",
       "      <th>1</th>\n",
       "      <td>57</td>\n",
       "      <td>42</td>\n",
       "    </tr>\n",
       "  </tbody>\n",
       "</table>\n",
       "</div>"
      ],
      "text/plain": [
       "Predicted    0   1\n",
       "Actual            \n",
       "0          173  28\n",
       "1           57  42"
      ]
     },
     "execution_count": 188,
     "metadata": {},
     "output_type": "execute_result"
    }
   ],
   "source": [
    "table #table between actual and predicted is called as confusion matrix"
   ]
  },
  {
   "cell_type": "code",
   "execution_count": 189,
   "metadata": {},
   "outputs": [],
   "source": [
    "TP = table.iloc[1,1]\n",
    "TN = table.iloc[0,0]\n",
    "FP = table.iloc[0,1]\n",
    "FN = table.iloc[1,0]"
   ]
  },
  {
   "cell_type": "code",
   "execution_count": 190,
   "metadata": {},
   "outputs": [
    {
     "data": {
      "text/plain": [
       "0.7166666666666667"
      ]
     },
     "execution_count": 190,
     "metadata": {},
     "output_type": "execute_result"
    }
   ],
   "source": [
    "acc = (TP+TN)/(TP+TN+FP+FN)\n",
    "acc"
   ]
  },
  {
   "cell_type": "code",
   "execution_count": 43,
   "metadata": {},
   "outputs": [
    {
     "name": "stdout",
     "output_type": "stream",
     "text": [
      "[LibLinear]"
     ]
    },
    {
     "data": {
      "text/plain": [
       "LogisticRegression(C=1.0, class_weight=None, dual=False, fit_intercept=True,\n",
       "                   intercept_scaling=1, l1_ratio=None, max_iter=100,\n",
       "                   multi_class='warn', n_jobs=-1, penalty='l2', random_state=2,\n",
       "                   solver='warn', tol=0.0001, verbose=2, warm_start=False)"
      ]
     },
     "execution_count": 43,
     "metadata": {},
     "output_type": "execute_result"
    }
   ],
   "source": [
    "from sklearn.linear_model import LogisticRegression\n",
    "lore = LogisticRegression(random_state=2, n_jobs=-1,verbose=2) #n_jobs = -1 will do the parallel computations using all the cores in the processor\n",
    "lore.fit(Xtrain, y_train)"
   ]
  },
  {
   "cell_type": "code",
   "execution_count": 44,
   "metadata": {},
   "outputs": [
    {
     "data": {
      "text/plain": [
       "0.73"
      ]
     },
     "execution_count": 44,
     "metadata": {},
     "output_type": "execute_result"
    }
   ],
   "source": [
    "lore.score(X_test,y_test) #score will give accuracy"
   ]
  },
  {
   "cell_type": "code",
   "execution_count": 46,
   "metadata": {
    "scrolled": true
   },
   "outputs": [
    {
     "data": {
      "text/plain": [
       "array([[ 1.29931405,  1.36555875,  0.74199066,  0.22810335, -0.61169218,\n",
       "        -0.10275108,  0.40229556, -0.15913546, -1.31865988, -1.38774811,\n",
       "         0.1207449 , -0.18127221, -0.34808539, -0.84863551, -1.55434942,\n",
       "        -0.55028544, -0.50360883, -0.71040882, -0.13372739,  0.25181861,\n",
       "        -0.01444094, -0.39181321, -0.43840664, -0.20898343, -0.39493528,\n",
       "        -0.76633749, -0.93423345,  0.09969127,  0.16088056, -0.72956591,\n",
       "        -0.10585978, -0.03424731, -0.60648716, -0.16463346,  0.46829913,\n",
       "        -0.6617033 ,  0.55671394,  0.51472256,  0.95092676, -0.29844043,\n",
       "        -0.55155083, -0.49000234, -0.44599403,  0.43970631,  0.30269891,\n",
       "         0.59181027, -0.37778692, -0.73687771]])"
      ]
     },
     "execution_count": 46,
     "metadata": {},
     "output_type": "execute_result"
    }
   ],
   "source": [
    "lore.coef_"
   ]
  },
  {
   "cell_type": "code",
   "execution_count": 47,
   "metadata": {},
   "outputs": [
    {
     "data": {
      "text/plain": [
       "Index(['duration', 'amount', 'installment', 'residence', 'age', 'cards',\n",
       "       'liable', 'checkingstatus1_A12', 'checkingstatus1_A13',\n",
       "       'checkingstatus1_A14', 'history_A31', 'history_A32', 'history_A33',\n",
       "       'history_A34', 'purpose_A41', 'purpose_A410', 'purpose_A42',\n",
       "       'purpose_A43', 'purpose_A44', 'purpose_A45', 'purpose_A46',\n",
       "       'purpose_A48', 'purpose_A49', 'savings_A62', 'savings_A63',\n",
       "       'savings_A64', 'savings_A65', 'employ_A72', 'employ_A73', 'employ_A74',\n",
       "       'employ_A75', 'status_A92', 'status_A93', 'status_A94', 'others_A102',\n",
       "       'others_A103', 'property_A122', 'property_A123', 'property_A124',\n",
       "       'otherplans_A142', 'otherplans_A143', 'housing_A152', 'housing_A153',\n",
       "       'job_A172', 'job_A173', 'job_A174', 'tele_A192', 'foreign_A202'],\n",
       "      dtype='object')"
      ]
     },
     "execution_count": 47,
     "metadata": {},
     "output_type": "execute_result"
    }
   ],
   "source": [
    "X_train.columns"
   ]
  },
  {
   "cell_type": "code",
   "execution_count": 49,
   "metadata": {},
   "outputs": [
    {
     "data": {
      "text/html": [
       "<div>\n",
       "<style scoped>\n",
       "    .dataframe tbody tr th:only-of-type {\n",
       "        vertical-align: middle;\n",
       "    }\n",
       "\n",
       "    .dataframe tbody tr th {\n",
       "        vertical-align: top;\n",
       "    }\n",
       "\n",
       "    .dataframe thead th {\n",
       "        text-align: right;\n",
       "    }\n",
       "</style>\n",
       "<table border=\"1\" class=\"dataframe\">\n",
       "  <thead>\n",
       "    <tr style=\"text-align: right;\">\n",
       "      <th></th>\n",
       "      <th>columns</th>\n",
       "      <th>coefficients</th>\n",
       "    </tr>\n",
       "  </thead>\n",
       "  <tbody>\n",
       "    <tr>\n",
       "      <th>0</th>\n",
       "      <td>duration</td>\n",
       "      <td>1.299314</td>\n",
       "    </tr>\n",
       "    <tr>\n",
       "      <th>1</th>\n",
       "      <td>amount</td>\n",
       "      <td>1.365559</td>\n",
       "    </tr>\n",
       "    <tr>\n",
       "      <th>2</th>\n",
       "      <td>installment</td>\n",
       "      <td>0.741991</td>\n",
       "    </tr>\n",
       "    <tr>\n",
       "      <th>3</th>\n",
       "      <td>residence</td>\n",
       "      <td>0.228103</td>\n",
       "    </tr>\n",
       "    <tr>\n",
       "      <th>4</th>\n",
       "      <td>age</td>\n",
       "      <td>-0.611692</td>\n",
       "    </tr>\n",
       "    <tr>\n",
       "      <th>5</th>\n",
       "      <td>cards</td>\n",
       "      <td>-0.102751</td>\n",
       "    </tr>\n",
       "    <tr>\n",
       "      <th>6</th>\n",
       "      <td>liable</td>\n",
       "      <td>0.402296</td>\n",
       "    </tr>\n",
       "    <tr>\n",
       "      <th>7</th>\n",
       "      <td>checkingstatus1_A12</td>\n",
       "      <td>-0.159135</td>\n",
       "    </tr>\n",
       "    <tr>\n",
       "      <th>8</th>\n",
       "      <td>checkingstatus1_A13</td>\n",
       "      <td>-1.318660</td>\n",
       "    </tr>\n",
       "    <tr>\n",
       "      <th>9</th>\n",
       "      <td>checkingstatus1_A14</td>\n",
       "      <td>-1.387748</td>\n",
       "    </tr>\n",
       "    <tr>\n",
       "      <th>10</th>\n",
       "      <td>history_A31</td>\n",
       "      <td>0.120745</td>\n",
       "    </tr>\n",
       "    <tr>\n",
       "      <th>11</th>\n",
       "      <td>history_A32</td>\n",
       "      <td>-0.181272</td>\n",
       "    </tr>\n",
       "    <tr>\n",
       "      <th>12</th>\n",
       "      <td>history_A33</td>\n",
       "      <td>-0.348085</td>\n",
       "    </tr>\n",
       "    <tr>\n",
       "      <th>13</th>\n",
       "      <td>history_A34</td>\n",
       "      <td>-0.848636</td>\n",
       "    </tr>\n",
       "    <tr>\n",
       "      <th>14</th>\n",
       "      <td>purpose_A41</td>\n",
       "      <td>-1.554349</td>\n",
       "    </tr>\n",
       "    <tr>\n",
       "      <th>15</th>\n",
       "      <td>purpose_A410</td>\n",
       "      <td>-0.550285</td>\n",
       "    </tr>\n",
       "    <tr>\n",
       "      <th>16</th>\n",
       "      <td>purpose_A42</td>\n",
       "      <td>-0.503609</td>\n",
       "    </tr>\n",
       "    <tr>\n",
       "      <th>17</th>\n",
       "      <td>purpose_A43</td>\n",
       "      <td>-0.710409</td>\n",
       "    </tr>\n",
       "    <tr>\n",
       "      <th>18</th>\n",
       "      <td>purpose_A44</td>\n",
       "      <td>-0.133727</td>\n",
       "    </tr>\n",
       "    <tr>\n",
       "      <th>19</th>\n",
       "      <td>purpose_A45</td>\n",
       "      <td>0.251819</td>\n",
       "    </tr>\n",
       "    <tr>\n",
       "      <th>20</th>\n",
       "      <td>purpose_A46</td>\n",
       "      <td>-0.014441</td>\n",
       "    </tr>\n",
       "    <tr>\n",
       "      <th>21</th>\n",
       "      <td>purpose_A48</td>\n",
       "      <td>-0.391813</td>\n",
       "    </tr>\n",
       "    <tr>\n",
       "      <th>22</th>\n",
       "      <td>purpose_A49</td>\n",
       "      <td>-0.438407</td>\n",
       "    </tr>\n",
       "    <tr>\n",
       "      <th>23</th>\n",
       "      <td>savings_A62</td>\n",
       "      <td>-0.208983</td>\n",
       "    </tr>\n",
       "    <tr>\n",
       "      <th>24</th>\n",
       "      <td>savings_A63</td>\n",
       "      <td>-0.394935</td>\n",
       "    </tr>\n",
       "    <tr>\n",
       "      <th>25</th>\n",
       "      <td>savings_A64</td>\n",
       "      <td>-0.766337</td>\n",
       "    </tr>\n",
       "    <tr>\n",
       "      <th>26</th>\n",
       "      <td>savings_A65</td>\n",
       "      <td>-0.934233</td>\n",
       "    </tr>\n",
       "    <tr>\n",
       "      <th>27</th>\n",
       "      <td>employ_A72</td>\n",
       "      <td>0.099691</td>\n",
       "    </tr>\n",
       "    <tr>\n",
       "      <th>28</th>\n",
       "      <td>employ_A73</td>\n",
       "      <td>0.160881</td>\n",
       "    </tr>\n",
       "    <tr>\n",
       "      <th>29</th>\n",
       "      <td>employ_A74</td>\n",
       "      <td>-0.729566</td>\n",
       "    </tr>\n",
       "    <tr>\n",
       "      <th>30</th>\n",
       "      <td>employ_A75</td>\n",
       "      <td>-0.105860</td>\n",
       "    </tr>\n",
       "    <tr>\n",
       "      <th>31</th>\n",
       "      <td>status_A92</td>\n",
       "      <td>-0.034247</td>\n",
       "    </tr>\n",
       "    <tr>\n",
       "      <th>32</th>\n",
       "      <td>status_A93</td>\n",
       "      <td>-0.606487</td>\n",
       "    </tr>\n",
       "    <tr>\n",
       "      <th>33</th>\n",
       "      <td>status_A94</td>\n",
       "      <td>-0.164633</td>\n",
       "    </tr>\n",
       "    <tr>\n",
       "      <th>34</th>\n",
       "      <td>others_A102</td>\n",
       "      <td>0.468299</td>\n",
       "    </tr>\n",
       "    <tr>\n",
       "      <th>35</th>\n",
       "      <td>others_A103</td>\n",
       "      <td>-0.661703</td>\n",
       "    </tr>\n",
       "    <tr>\n",
       "      <th>36</th>\n",
       "      <td>property_A122</td>\n",
       "      <td>0.556714</td>\n",
       "    </tr>\n",
       "    <tr>\n",
       "      <th>37</th>\n",
       "      <td>property_A123</td>\n",
       "      <td>0.514723</td>\n",
       "    </tr>\n",
       "    <tr>\n",
       "      <th>38</th>\n",
       "      <td>property_A124</td>\n",
       "      <td>0.950927</td>\n",
       "    </tr>\n",
       "    <tr>\n",
       "      <th>39</th>\n",
       "      <td>otherplans_A142</td>\n",
       "      <td>-0.298440</td>\n",
       "    </tr>\n",
       "    <tr>\n",
       "      <th>40</th>\n",
       "      <td>otherplans_A143</td>\n",
       "      <td>-0.551551</td>\n",
       "    </tr>\n",
       "    <tr>\n",
       "      <th>41</th>\n",
       "      <td>housing_A152</td>\n",
       "      <td>-0.490002</td>\n",
       "    </tr>\n",
       "    <tr>\n",
       "      <th>42</th>\n",
       "      <td>housing_A153</td>\n",
       "      <td>-0.445994</td>\n",
       "    </tr>\n",
       "    <tr>\n",
       "      <th>43</th>\n",
       "      <td>job_A172</td>\n",
       "      <td>0.439706</td>\n",
       "    </tr>\n",
       "    <tr>\n",
       "      <th>44</th>\n",
       "      <td>job_A173</td>\n",
       "      <td>0.302699</td>\n",
       "    </tr>\n",
       "    <tr>\n",
       "      <th>45</th>\n",
       "      <td>job_A174</td>\n",
       "      <td>0.591810</td>\n",
       "    </tr>\n",
       "    <tr>\n",
       "      <th>46</th>\n",
       "      <td>tele_A192</td>\n",
       "      <td>-0.377787</td>\n",
       "    </tr>\n",
       "    <tr>\n",
       "      <th>47</th>\n",
       "      <td>foreign_A202</td>\n",
       "      <td>-0.736878</td>\n",
       "    </tr>\n",
       "  </tbody>\n",
       "</table>\n",
       "</div>"
      ],
      "text/plain": [
       "                columns  coefficients\n",
       "0              duration      1.299314\n",
       "1                amount      1.365559\n",
       "2           installment      0.741991\n",
       "3             residence      0.228103\n",
       "4                   age     -0.611692\n",
       "5                 cards     -0.102751\n",
       "6                liable      0.402296\n",
       "7   checkingstatus1_A12     -0.159135\n",
       "8   checkingstatus1_A13     -1.318660\n",
       "9   checkingstatus1_A14     -1.387748\n",
       "10          history_A31      0.120745\n",
       "11          history_A32     -0.181272\n",
       "12          history_A33     -0.348085\n",
       "13          history_A34     -0.848636\n",
       "14          purpose_A41     -1.554349\n",
       "15         purpose_A410     -0.550285\n",
       "16          purpose_A42     -0.503609\n",
       "17          purpose_A43     -0.710409\n",
       "18          purpose_A44     -0.133727\n",
       "19          purpose_A45      0.251819\n",
       "20          purpose_A46     -0.014441\n",
       "21          purpose_A48     -0.391813\n",
       "22          purpose_A49     -0.438407\n",
       "23          savings_A62     -0.208983\n",
       "24          savings_A63     -0.394935\n",
       "25          savings_A64     -0.766337\n",
       "26          savings_A65     -0.934233\n",
       "27           employ_A72      0.099691\n",
       "28           employ_A73      0.160881\n",
       "29           employ_A74     -0.729566\n",
       "30           employ_A75     -0.105860\n",
       "31           status_A92     -0.034247\n",
       "32           status_A93     -0.606487\n",
       "33           status_A94     -0.164633\n",
       "34          others_A102      0.468299\n",
       "35          others_A103     -0.661703\n",
       "36        property_A122      0.556714\n",
       "37        property_A123      0.514723\n",
       "38        property_A124      0.950927\n",
       "39      otherplans_A142     -0.298440\n",
       "40      otherplans_A143     -0.551551\n",
       "41         housing_A152     -0.490002\n",
       "42         housing_A153     -0.445994\n",
       "43             job_A172      0.439706\n",
       "44             job_A173      0.302699\n",
       "45             job_A174      0.591810\n",
       "46            tele_A192     -0.377787\n",
       "47         foreign_A202     -0.736878"
      ]
     },
     "execution_count": 49,
     "metadata": {},
     "output_type": "execute_result"
    }
   ],
   "source": [
    "pd.DataFrame({'columns': X_train.columns, 'coefficients': lore.coef_.flatten()})"
   ]
  }
 ],
 "metadata": {
  "kernelspec": {
   "display_name": "Python 3",
   "language": "python",
   "name": "python3"
  },
  "language_info": {
   "codemirror_mode": {
    "name": "ipython",
    "version": 3
   },
   "file_extension": ".py",
   "mimetype": "text/x-python",
   "name": "python",
   "nbconvert_exporter": "python",
   "pygments_lexer": "ipython3",
   "version": "3.6.8"
  }
 },
 "nbformat": 4,
 "nbformat_minor": 2
}
