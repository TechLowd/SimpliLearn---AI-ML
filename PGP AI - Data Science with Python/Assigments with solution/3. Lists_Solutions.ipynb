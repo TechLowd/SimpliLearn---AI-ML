{
 "cells": [
  {
   "cell_type": "code",
   "execution_count": null,
   "metadata": {},
   "outputs": [],
   "source": [
    "'''\n",
    "Question1:\n",
    "\n",
    "Write a program to the largest number from the list given below:\n",
    "\n",
    "listExample1 = [8,9,13,2,3,99,6,7,4,3]\n",
    "\n",
    "'''\n",
    "\n"
   ]
  },
  {
   "cell_type": "code",
   "execution_count": null,
   "metadata": {},
   "outputs": [],
   "source": [
    "def getLargest2(collection):\n",
    "    sorted(collection)"
   ]
  },
  {
   "cell_type": "code",
   "execution_count": 3,
   "metadata": {},
   "outputs": [],
   "source": [
    "def getLargest(collection):\n",
    "    largestNumber = 0\n",
    "    \n",
    "    for number in collection:\n",
    "        if number > largestNumber:\n",
    "            largestNumber = number\n",
    "            \n",
    "    return largestNumber"
   ]
  },
  {
   "cell_type": "code",
   "execution_count": 4,
   "metadata": {},
   "outputs": [
    {
     "data": {
      "text/plain": [
       "99"
      ]
     },
     "execution_count": 4,
     "metadata": {},
     "output_type": "execute_result"
    }
   ],
   "source": [
    "listExample1 = [8,9,13,2,3,99,6,7,4,3]\n",
    "\n",
    "getLargest(listExample1)\n"
   ]
  },
  {
   "cell_type": "code",
   "execution_count": 8,
   "metadata": {},
   "outputs": [
    {
     "data": {
      "text/plain": [
       "99"
      ]
     },
     "execution_count": 8,
     "metadata": {},
     "output_type": "execute_result"
    }
   ],
   "source": [
    "largeNumber = lambda collection: sorted(listExample1)[-1]\n",
    "largeNumber(listExample1)"
   ]
  },
  {
   "cell_type": "code",
   "execution_count": null,
   "metadata": {},
   "outputs": [],
   "source": [
    "'''\n",
    "Question2:\n",
    "\n",
    "Write a program to sum all the items from the list given below:\n",
    "\n",
    "listExample2 = [9,8,7,6,5,4,3]\n",
    "\n",
    "'''\n"
   ]
  },
  {
   "cell_type": "code",
   "execution_count": 9,
   "metadata": {},
   "outputs": [
    {
     "name": "stdout",
     "output_type": "stream",
     "text": [
      "42\n"
     ]
    }
   ],
   "source": [
    "listExample2 = [9,8,7,6,5,4,3]\n",
    "temp = 0\n",
    "for i in listExample2:\n",
    "    temp = temp + i\n",
    "print(temp)\n"
   ]
  },
  {
   "cell_type": "code",
   "execution_count": null,
   "metadata": {},
   "outputs": [],
   "source": [
    "'''\n",
    "Question3:\n",
    "\n",
    "Write a program to remove duplicate values from the list given below:\n",
    "\n",
    "listExample3 = [1,1,1,2,3,44,44,9,9,1,4,44]\n",
    "\n",
    "'''"
   ]
  },
  {
   "cell_type": "code",
   "execution_count": 10,
   "metadata": {},
   "outputs": [
    {
     "name": "stdout",
     "output_type": "stream",
     "text": [
      "[1, 2, 3, 44, 9, 4]\n"
     ]
    }
   ],
   "source": [
    "listExample3 = [1,1,1,2,3,44,44,9,9,1,4,44]\n",
    "#Use set(listExample3) or below!!\n",
    "def removeDuplicates(listExample3):\n",
    "    new_list = []\n",
    "    for i in listExample3:\n",
    "        if i not in new_list:\n",
    "            new_list.append(i)\n",
    "    return (new_list)\n",
    "print (removeDuplicates(listExample3))\n"
   ]
  }
 ],
 "metadata": {
  "kernelspec": {
   "display_name": "Python 3",
   "language": "python",
   "name": "python3"
  },
  "language_info": {
   "codemirror_mode": {
    "name": "ipython",
    "version": 3
   },
   "file_extension": ".py",
   "mimetype": "text/x-python",
   "name": "python",
   "nbconvert_exporter": "python",
   "pygments_lexer": "ipython3",
   "version": "3.6.8"
  }
 },
 "nbformat": 4,
 "nbformat_minor": 2
}
