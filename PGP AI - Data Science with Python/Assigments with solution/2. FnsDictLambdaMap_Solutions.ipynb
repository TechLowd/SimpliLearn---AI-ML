{
 "cells": [
  {
   "cell_type": "markdown",
   "metadata": {},
   "source": [
    "# Assignment Solutions"
   ]
  },
  {
   "cell_type": "markdown",
   "metadata": {},
   "source": [
    "#### Find the words with the maximum count in `romeo.txt`"
   ]
  },
  {
   "cell_type": "code",
   "execution_count": 84,
   "metadata": {},
   "outputs": [
    {
     "name": "stdout",
     "output_type": "stream",
     "text": [
      "[('is', 3), ('the', 3), ('and', 3)]\n"
     ]
    }
   ],
   "source": [
    "#first create the counts dictionary, then find the key corresponding to the max value. \n",
    "#In this file there are multiple words with highest frequency\n",
    "counts=dict()\n",
    "fhand=open(\"C:\\\\Users\\\\Vaibhav\\\\Desktop\\\\BA\\\\Datasets\\\\romeo.txt\")\n",
    "for line in fhand:\n",
    "    words=line.split()\n",
    "    for word in words:\n",
    "        counts[word]=counts.get(word,0)+1\n",
    "bigword = []\n",
    "\n",
    "for word,count in counts.items():\n",
    "    if count==max(counts.values()):\n",
    "        bigword.append((word,count))\n",
    "        \n",
    "print(bigword)\n"
   ]
  },
  {
   "cell_type": "markdown",
   "metadata": {},
   "source": [
    "### Arrange in decreasing order of word counts"
   ]
  },
  {
   "cell_type": "code",
   "execution_count": 85,
   "metadata": {},
   "outputs": [
    {
     "name": "stdout",
     "output_type": "stream",
     "text": [
      "[(4, 'is'), (4, 'and'), (3, 'the'), (2, 'with'), (2, 'sun'), (2, 'sick'), (2, 'pale'), (2, 'grief'), (2, 'already'), (2, 'Who'), (1, 'yonder'), (1, 'window'), (1, 'what'), (1, 'through'), (1, 'soft'), (1, 'moon'), (1, 'light'), (1, 'kill'), (1, 'fair'), (1, 'envious'), (1, 'east'), (1, 'breaks'), (1, 'Juliet'), (1, 'It'), (1, 'But'), (1, 'Arise')]\n",
      "-----\n",
      "[('yonder', 1), ('with', 2), ('window', 1), ('what', 1), ('through', 1), ('the', 3)]\n"
     ]
    }
   ],
   "source": [
    "\n",
    "while line!='':\n",
    "    line = line.rstrip() #taking off the white spaces from right side of the line\n",
    "    for i in line.split(' '):\n",
    "        counts[i] = counts.get(i,0)+1\n",
    "    line = fhand.readline()\n",
    "\n",
    "temp = []\n",
    "temp1 = []\n",
    "for k,v in counts.items():\n",
    "    temp.append((v,k))\n",
    "    temp1.append((k,v)) #if we try to sort this, this will get sorted according to keys i.e words\n",
    "    #so temp is the correct dictionary for this problem.\n",
    "    \n",
    "temp = sorted(temp,reverse=True)\n",
    "temp1 = sorted(temp1,reverse=True)\n",
    "#temp\n",
    "print(temp)\n",
    "print('-----')\n",
    "print(temp1[0:6]) #sorted according the words"
   ]
  },
  {
   "cell_type": "code",
   "execution_count": 99,
   "metadata": {},
   "outputs": [
    {
     "data": {
      "text/plain": [
       "{'watermelon': 'green',\n",
       " 'pear': 'green',\n",
       " 'pomegranate': 'red',\n",
       " 'cherry': 'red',\n",
       " 'peach': 'orange',\n",
       " 'orange': 'orange',\n",
       " 'banana': 'yellow',\n",
       " 'plum': 'purple'}"
      ]
     },
     "execution_count": 99,
     "metadata": {},
     "output_type": "execute_result"
    }
   ],
   "source": [
    "#Let's say we want to again invert it\n",
    "f2c = {}\n",
    "c2f = colour_to_fruit\n",
    "for color in c2f:\n",
    "    for fruit in c2f[color]:\n",
    "        f2c[fruit] = color\n",
    "        \n",
    "f2c"
   ]
  },
  {
   "cell_type": "markdown",
   "metadata": {},
   "source": [
    "#### Exercise:\n",
    "Invert this dictionary:<br>"
   ]
  },
  {
   "cell_type": "code",
   "execution_count": 1,
   "metadata": {},
   "outputs": [],
   "source": [
    "c2f = {'green': ['watermelon', 'pear'],\n",
    " 'red': ['pomegranate', 'cherry'],\n",
    " 'orange': ['peach', 'orange'],\n",
    " 'yellow': ['banana'],\n",
    " 'purple': ['plum']}"
   ]
  },
  {
   "cell_type": "markdown",
   "metadata": {},
   "source": [
    "#### Q4. Create a function to count the number of i in all the arguments. Number of arguments are unknown"
   ]
  },
  {
   "cell_type": "code",
   "execution_count": 2,
   "metadata": {},
   "outputs": [
    {
     "data": {
      "text/plain": [
       "2"
      ]
     },
     "execution_count": 2,
     "metadata": {},
     "output_type": "execute_result"
    }
   ],
   "source": [
    "n = \"Samridhi\"\n",
    "n.count(\"i\")"
   ]
  },
  {
   "cell_type": "code",
   "execution_count": 7,
   "metadata": {},
   "outputs": [
    {
     "name": "stdout",
     "output_type": "stream",
     "text": [
      "2\n",
      "0\n",
      "2\n"
     ]
    }
   ],
   "source": [
    "def fn(*args):\n",
    "    for word in args:\n",
    "        print(word.count(\"i\"))\n",
    "fn(\"Samridhi\", \"Dutta\", \"Rohini\")"
   ]
  },
  {
   "cell_type": "markdown",
   "metadata": {},
   "source": [
    "#### Q5. Create a lambda function to extract the surname from the names: \"Samridhi Dutta\", \"Ronit Singh\", \"Narender Modi\""
   ]
  },
  {
   "cell_type": "code",
   "execution_count": 12,
   "metadata": {},
   "outputs": [
    {
     "data": {
      "text/plain": [
       "'Singh'"
      ]
     },
     "execution_count": 12,
     "metadata": {},
     "output_type": "execute_result"
    }
   ],
   "source": [
    "n = \"Rohit Singh\"\n",
    "n.split(\" \")[1]"
   ]
  },
  {
   "cell_type": "code",
   "execution_count": 14,
   "metadata": {},
   "outputs": [
    {
     "data": {
      "text/plain": [
       "'Dutta'"
      ]
     },
     "execution_count": 14,
     "metadata": {},
     "output_type": "execute_result"
    }
   ],
   "source": [
    "f = lambda x: x.split(\" \")[1]\n",
    "f(\"Samridhi Dutta\")"
   ]
  },
  {
   "cell_type": "markdown",
   "metadata": {},
   "source": [
    "#### Q6. Convert the following temp in degree celsius to fahrenheit using lambda and map fns."
   ]
  },
  {
   "cell_type": "code",
   "execution_count": 1,
   "metadata": {},
   "outputs": [],
   "source": [
    "\n",
    "temp = [36.5, 37, 37.5,39]\n",
    "#fahrenheit = (9/5)*temp + 32"
   ]
  },
  {
   "cell_type": "code",
   "execution_count": 18,
   "metadata": {},
   "outputs": [
    {
     "name": "stdout",
     "output_type": "stream",
     "text": [
      "[36.5, 37.00000000000001, 37.5, 39.0]\n",
      "[97.7, 98.60000000000001, 99.5, 102.2]\n"
     ]
    }
   ],
   "source": [
    "temp = (36.5, 37, 37.5,39)\n",
    "Fahrenheit = list(map(lambda T : (9/5)*T + 32,temp))\n",
    "Celcius = list(map(lambda T:(5/9)*(T -32),temp))\n",
    "print(Celcius)\n",
    "print(Fahrenheit)"
   ]
  },
  {
   "cell_type": "markdown",
   "metadata": {
    "colab_type": "text",
    "id": "jdFVy3vs3wDO"
   },
   "source": [
    "Q7. Create a function that counts the number of times the word \"dog\" occurs in a string. Again ignore edge cases. **"
   ]
  },
  {
   "cell_type": "code",
   "execution_count": 19,
   "metadata": {
    "colab": {},
    "colab_type": "code",
    "id": "lsWvQYT_3wDP"
   },
   "outputs": [],
   "source": [
    "def countDog(x):\n",
    "    return x.count('dog')"
   ]
  },
  {
   "cell_type": "code",
   "execution_count": 20,
   "metadata": {
    "colab": {},
    "colab_type": "code",
    "id": "EJz9s6UP3wDS",
    "outputId": "bc70cac7-bb49-4877-9115-1846d30bc252"
   },
   "outputs": [
    {
     "data": {
      "text/plain": [
       "2"
      ]
     },
     "execution_count": 20,
     "metadata": {},
     "output_type": "execute_result"
    }
   ],
   "source": [
    "countDog('This dog runs faster than the other dog dude!')"
   ]
  },
  {
   "cell_type": "markdown",
   "metadata": {
    "colab_type": "text",
    "id": "DY2Qfy5A3wDU"
   },
   "source": [
    "Q8. Use lambda expressions and the filter() function to filter out words from a list that don't start with the letter 's'. For example:\n",
    "\n",
    "    seq = ['soup','dog','salad','cat','great']\n",
    "\n",
    "**should be filtered down to:**\n",
    "\n",
    "    ['soup','salad']"
   ]
  },
  {
   "cell_type": "code",
   "execution_count": 22,
   "metadata": {
    "colab": {},
    "colab_type": "code",
    "id": "FxgVxsxX3wDV"
   },
   "outputs": [],
   "source": [
    "seq = ['soup','dog','salad','cat','great']"
   ]
  },
  {
   "cell_type": "code",
   "execution_count": 24,
   "metadata": {
    "colab": {},
    "colab_type": "code",
    "id": "N92BwjrG3wDZ",
    "outputId": "3c2d6b4f-21b7-46f1-fd31-a8099e301554"
   },
   "outputs": [
    {
     "data": {
      "text/plain": [
       "['soup', 'salad']"
      ]
     },
     "execution_count": 24,
     "metadata": {},
     "output_type": "execute_result"
    }
   ],
   "source": [
    "list(filter(lambda x: (x.startswith('s')==True), seq))"
   ]
  },
  {
   "cell_type": "markdown",
   "metadata": {
    "colab_type": "text",
    "id": "FRIKUtM83wDd"
   },
   "source": [
    "### Q9. You are driving a little too fast, and a police officer stops you. Write a function\n",
    "  to return one of 3 possible results: \"No ticket\", \"Small ticket\", or \"Big Ticket\". \n",
    "  If your speed is 60 or less, the result is \"No Ticket\". If speed is between 61 \n",
    "  and 80 inclusive, the result is \"Small Ticket\". If speed is 81 or more, the result is \"Big    Ticket\". Unless it is your birthday (encoded as a boolean value in the parameters of the function) -- on your birthday, your speed can be 5 higher in all cases."
   ]
  },
  {
   "cell_type": "code",
   "execution_count": 25,
   "metadata": {
    "colab": {},
    "colab_type": "code",
    "id": "vQxX1NQx3wDe"
   },
   "outputs": [],
   "source": [
    "def caught_speeding(speed, is_birthday):\n",
    "    \n",
    "    if is_birthday:\n",
    "        speed = speed - 5\n",
    "    \n",
    "    if speed <=60:\n",
    "        print(\"No Ticket\")\n",
    "        \n",
    "    elif speed >= 61 and speed <=80:\n",
    "        print(\"Small Ticket\")\n",
    "    else:\n",
    "        print(\"Big Ticket\")"
   ]
  },
  {
   "cell_type": "code",
   "execution_count": 26,
   "metadata": {
    "colab": {},
    "colab_type": "code",
    "id": "3jIHdPVG3wDg",
    "outputId": "f03c999b-6ba2-4c48-eda8-2f1c0787900c"
   },
   "outputs": [
    {
     "name": "stdout",
     "output_type": "stream",
     "text": [
      "Small Ticket\n"
     ]
    }
   ],
   "source": [
    "caught_speeding(81,True)"
   ]
  },
  {
   "cell_type": "code",
   "execution_count": 27,
   "metadata": {
    "colab": {},
    "colab_type": "code",
    "id": "kLYcJgHc3wDi",
    "outputId": "b40a6cd7-66e8-4bf1-cdd8-76010248ca28"
   },
   "outputs": [
    {
     "name": "stdout",
     "output_type": "stream",
     "text": [
      "Big Ticket\n"
     ]
    }
   ],
   "source": [
    "caught_speeding(81,False)"
   ]
  },
  {
   "cell_type": "code",
   "execution_count": null,
   "metadata": {},
   "outputs": [],
   "source": []
  }
 ],
 "metadata": {
  "kernelspec": {
   "display_name": "Python 3",
   "language": "python",
   "name": "python3"
  },
  "language_info": {
   "codemirror_mode": {
    "name": "ipython",
    "version": 3
   },
   "file_extension": ".py",
   "mimetype": "text/x-python",
   "name": "python",
   "nbconvert_exporter": "python",
   "pygments_lexer": "ipython3",
   "version": "3.6.8"
  }
 },
 "nbformat": 4,
 "nbformat_minor": 2
}
